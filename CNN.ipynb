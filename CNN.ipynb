{
 "cells": [
  {
   "cell_type": "code",
   "execution_count": 1,
   "id": "df7eb1b3",
   "metadata": {},
   "outputs": [
    {
     "name": "stderr",
     "output_type": "stream",
     "text": [
      "2024-10-13 19:12:29.070853: I tensorflow/core/platform/cpu_feature_guard.cc:210] This TensorFlow binary is optimized to use available CPU instructions in performance-critical operations.\n",
      "To enable the following instructions: AVX2 FMA, in other operations, rebuild TensorFlow with the appropriate compiler flags.\n"
     ]
    }
   ],
   "source": [
    "import numpy as np\n",
    "import pandas as pd\n",
    "from matplotlib import pyplot as plt\n",
    "from sklearn.model_selection import train_test_split\n",
    "import torch\n",
    "import torch.nn as nn\n",
    "from datetime import datetime\n",
    "from sklearn.metrics import confusion_matrix\n",
    "import itertools\n",
    "import copy\n",
    "\n",
    "import keras\n",
    "from keras.models import Sequential\n",
    "from keras.layers import Dense, Dropout, Flatten\n",
    "from keras.layers import Conv2D, MaxPooling2D\n",
    "from keras.initializers import GlorotNormal\n",
    "from keras import backend as K\n",
    "\n",
    "from sklearn.model_selection import KFold \n",
    "\n",
    "from collections import Counter"
   ]
  },
  {
   "cell_type": "code",
   "execution_count": 2,
   "id": "cbbace51",
   "metadata": {},
   "outputs": [],
   "source": [
    "# Hyperparameters\n",
    "epochs = 12\n",
    "num_classes = 10\n",
    "batch_size = 128\n",
    "learning_rate = 0.0001\n",
    "\n",
    "kf = KFold(n_splits=10)\n",
    "initializer = GlorotNormal()\n",
    "\n",
    "# Device configuration\n",
    "device = torch.device('cuda:0' if torch.cuda.is_available() else 'cpu')"
   ]
  },
  {
   "cell_type": "code",
   "execution_count": 3,
   "id": "30e8d72c",
   "metadata": {},
   "outputs": [],
   "source": [
    "\"\"\"\n",
    "Data obtained from https://www.kaggle.com/competitions/digit-recognizer/data?select=train.csv\n",
    "\"\"\"\n",
    "\n",
    "trnData = pd.read_csv('kaggle/input/digit-recognizer/train.csv')\n",
    "tstData = pd.read_csv('kaggle/input/digit-recognizer/test.csv')"
   ]
  },
  {
   "cell_type": "code",
   "execution_count": 4,
   "id": "9b79cc73",
   "metadata": {},
   "outputs": [
    {
     "name": "stdout",
     "output_type": "stream",
     "text": [
      "Counter({1: 4684, 7: 4401, 3: 4351, 9: 4188, 2: 4177, 6: 4137, 0: 4132, 4: 4072, 8: 4063, 5: 3795})\n"
     ]
    }
   ],
   "source": [
    "print(Counter(trnData[\"label\"]))"
   ]
  },
  {
   "cell_type": "markdown",
   "id": "11789a02",
   "metadata": {},
   "source": [
    "## Get Training Data"
   ]
  },
  {
   "cell_type": "code",
   "execution_count": 5,
   "id": "78763928",
   "metadata": {},
   "outputs": [
    {
     "name": "stdout",
     "output_type": "stream",
     "text": [
      "<class 'pandas.core.frame.DataFrame'>\n",
      "RangeIndex: 42000 entries, 0 to 41999\n",
      "Columns: 785 entries, label to pixel783\n",
      "dtypes: int64(785)\n",
      "memory usage: 251.5 MB\n",
      "Training Data Shape: (42000, 784)\n",
      "Labels Shape: (42000,)\n"
     ]
    }
   ],
   "source": [
    "trnData.info()\n",
    "labels = trnData[\"label\"]\n",
    "trnImgs = []\n",
    "\n",
    "for i in range(trnData.shape[0]):\n",
    "    trnImgs.append(trnData.loc[i][1:])\n",
    "\n",
    "trnImgs = np.array(trnImgs)\n",
    "print(\"Training Data Shape:\", trnImgs.shape)\n",
    "print(\"Labels Shape:\", labels.shape)"
   ]
  },
  {
   "cell_type": "markdown",
   "id": "02f61737",
   "metadata": {},
   "source": [
    "## Get Testing Data"
   ]
  },
  {
   "cell_type": "code",
   "execution_count": 6,
   "id": "5a19bb03",
   "metadata": {},
   "outputs": [
    {
     "name": "stdout",
     "output_type": "stream",
     "text": [
      "<class 'pandas.core.frame.DataFrame'>\n",
      "RangeIndex: 28000 entries, 0 to 27999\n",
      "Columns: 784 entries, pixel0 to pixel783\n",
      "dtypes: int64(784)\n",
      "memory usage: 167.5 MB\n",
      "Testing Data Shape: (28000, 784)\n"
     ]
    }
   ],
   "source": [
    "tstData.info()\n",
    "tstImgs = []\n",
    "\n",
    "for i in range(tstData.shape[0]):\n",
    "    tstImgs.append(tstData.loc[i])\n",
    "    \n",
    "tstImgs = np.array(tstImgs)\n",
    "print(\"Testing Data Shape:\", tstImgs.shape)"
   ]
  },
  {
   "cell_type": "code",
   "execution_count": 7,
   "id": "07386cfb",
   "metadata": {},
   "outputs": [
    {
     "name": "stdout",
     "output_type": "stream",
     "text": [
      "(42000, 784)\n",
      "(28000, 784)\n",
      "(42000,)\n"
     ]
    }
   ],
   "source": [
    "# imgs[image number][pixel number]\n",
    "print(trnImgs[:,:].shape)\n",
    "print(tstImgs[:,:].shape)\n",
    "print(labels.shape)"
   ]
  },
  {
   "cell_type": "code",
   "execution_count": 8,
   "id": "01b1b8ed",
   "metadata": {},
   "outputs": [],
   "source": [
    "def to_categorical(y, num_classes=None):\n",
    "    \"\"\"Converts a class vector (integers) to binary class matrix.\n",
    "\n",
    "    E.g. for use with categorical_crossentropy.\n",
    "\n",
    "    # Arguments\n",
    "        y: class vector to be converted into a matrix\n",
    "            (integers from 0 to num_classes).\n",
    "        num_classes: total number of classes.\n",
    "\n",
    "    # Returns\n",
    "        A binary matrix representation of the input. The classes axis\n",
    "        is placed last.\n",
    "    \"\"\"\n",
    "    y = np.array(y, dtype='int')\n",
    "    input_shape = y.shape\n",
    "    if input_shape and input_shape[-1] == 1 and len(input_shape) > 1:\n",
    "        input_shape = tuple(input_shape[:-1])\n",
    "    y = y.ravel()\n",
    "    if not num_classes:\n",
    "        num_classes = np.max(y) + 1\n",
    "    n = y.shape[0]\n",
    "    categorical = np.zeros((n, num_classes), dtype=np.float32)\n",
    "    categorical[np.arange(n), y] = 1\n",
    "    output_shape = input_shape + (num_classes,)\n",
    "    categorical = np.reshape(categorical, output_shape)\n",
    "    return categorical"
   ]
  },
  {
   "cell_type": "code",
   "execution_count": 9,
   "id": "84203a1c",
   "metadata": {},
   "outputs": [],
   "source": [
    "def plot_confusion_matrix(cm, classes,\n",
    "                          normalize=False,\n",
    "                          title='Confusion matrix',\n",
    "                          cmap=plt.cm.Blues):\n",
    "    \"\"\"\n",
    "        This function prints and plots the confusion matrix.\n",
    "        Normalization can be applied by setting `normalize=True`.\n",
    "    \"\"\"\n",
    "    if normalize:\n",
    "        cm = cm.astype('float') / cm.sum(axis=1)[:, np.newaxis]\n",
    "        print(\"Normalized confusion matrix\")\n",
    "    else:\n",
    "        print('Confusion matrix, without normalization')\n",
    "\n",
    "    plt.imshow(cm, interpolation='nearest', cmap=cmap)\n",
    "    plt.title(title)\n",
    "    plt.colorbar()\n",
    "    tick_marks = np.arange(len(classes))\n",
    "    plt.xticks(tick_marks, classes, rotation=45)\n",
    "    plt.yticks(tick_marks, classes)\n",
    "\n",
    "    fmt = '.2f' if normalize else 'd'\n",
    "    thresh = cm.max() / 2.\n",
    "    for i, j in itertools.product(range(cm.shape[0]), range(cm.shape[1])):\n",
    "        plt.text(j, i, format(cm[i, j], fmt),\n",
    "                 horizontalalignment=\"center\",\n",
    "                 color=\"white\" if cm[i, j] > thresh else \"black\")\n",
    "\n",
    "    plt.ylabel('True label')\n",
    "    plt.xlabel('Predicted label')\n",
    "    plt.tight_layout()"
   ]
  },
  {
   "cell_type": "code",
   "execution_count": 10,
   "id": "aed61f70",
   "metadata": {},
   "outputs": [],
   "source": [
    "# input image dimensions\n",
    "img_rows, img_cols = 28, 28\n",
    "\n",
    "input_shape = (1, img_rows, img_cols) if K.image_data_format() == 'channels_first' else (img_rows, img_cols, 1)"
   ]
  },
  {
   "cell_type": "markdown",
   "id": "5ddf1861",
   "metadata": {},
   "source": [
    "## Define model"
   ]
  },
  {
   "cell_type": "code",
   "execution_count": 11,
   "id": "b6bc2457",
   "metadata": {},
   "outputs": [
    {
     "name": "stderr",
     "output_type": "stream",
     "text": [
      "/Users/reallytherealest/anaconda3/lib/python3.11/site-packages/keras/src/layers/convolutional/base_conv.py:107: UserWarning: Do not pass an `input_shape`/`input_dim` argument to a layer. When using Sequential models, prefer using an `Input(shape)` object as the first layer in the model instead.\n",
      "  super().__init__(activity_regularizer=activity_regularizer, **kwargs)\n"
     ]
    }
   ],
   "source": [
    "model = Sequential()\n",
    "model.add(Conv2D(16, kernel_size=(5, 5),\n",
    "                 activation='relu',\n",
    "                 input_shape=input_shape))\n",
    "model.add(MaxPooling2D(pool_size=(2, 2)))\n",
    "model.add(Dropout(0.25))\n",
    "model.add(Flatten())\n",
    "model.add(Dense(128, kernel_initializer=initializer, activation='relu'))\n",
    "model.add(Dropout(0.5))\n",
    "model.add(Dense(num_classes, kernel_initializer=initializer, activation='softmax'))\n",
    "\n",
    "model.compile(loss=keras.losses.categorical_crossentropy,\n",
    "              optimizer=keras.optimizers.Adadelta(),\n",
    "              metrics=['accuracy'])"
   ]
  },
  {
   "cell_type": "code",
   "execution_count": 12,
   "id": "a33ec8c4",
   "metadata": {},
   "outputs": [
    {
     "data": {
      "text/html": [
       "<pre style=\"white-space:pre;overflow-x:auto;line-height:normal;font-family:Menlo,'DejaVu Sans Mono',consolas,'Courier New',monospace\"><span style=\"font-weight: bold\">Model: \"sequential\"</span>\n",
       "</pre>\n"
      ],
      "text/plain": [
       "\u001b[1mModel: \"sequential\"\u001b[0m\n"
      ]
     },
     "metadata": {},
     "output_type": "display_data"
    },
    {
     "data": {
      "text/html": [
       "<pre style=\"white-space:pre;overflow-x:auto;line-height:normal;font-family:Menlo,'DejaVu Sans Mono',consolas,'Courier New',monospace\">┏━━━━━━━━━━━━━━━━━━━━━━━━━━━━━━━━━┳━━━━━━━━━━━━━━━━━━━━━━━━┳━━━━━━━━━━━━━━━┓\n",
       "┃<span style=\"font-weight: bold\"> Layer (type)                    </span>┃<span style=\"font-weight: bold\"> Output Shape           </span>┃<span style=\"font-weight: bold\">       Param # </span>┃\n",
       "┡━━━━━━━━━━━━━━━━━━━━━━━━━━━━━━━━━╇━━━━━━━━━━━━━━━━━━━━━━━━╇━━━━━━━━━━━━━━━┩\n",
       "│ conv2d (<span style=\"color: #0087ff; text-decoration-color: #0087ff\">Conv2D</span>)                 │ (<span style=\"color: #00d7ff; text-decoration-color: #00d7ff\">None</span>, <span style=\"color: #00af00; text-decoration-color: #00af00\">24</span>, <span style=\"color: #00af00; text-decoration-color: #00af00\">24</span>, <span style=\"color: #00af00; text-decoration-color: #00af00\">16</span>)     │           <span style=\"color: #00af00; text-decoration-color: #00af00\">416</span> │\n",
       "├─────────────────────────────────┼────────────────────────┼───────────────┤\n",
       "│ max_pooling2d (<span style=\"color: #0087ff; text-decoration-color: #0087ff\">MaxPooling2D</span>)    │ (<span style=\"color: #00d7ff; text-decoration-color: #00d7ff\">None</span>, <span style=\"color: #00af00; text-decoration-color: #00af00\">12</span>, <span style=\"color: #00af00; text-decoration-color: #00af00\">12</span>, <span style=\"color: #00af00; text-decoration-color: #00af00\">16</span>)     │             <span style=\"color: #00af00; text-decoration-color: #00af00\">0</span> │\n",
       "├─────────────────────────────────┼────────────────────────┼───────────────┤\n",
       "│ dropout (<span style=\"color: #0087ff; text-decoration-color: #0087ff\">Dropout</span>)               │ (<span style=\"color: #00d7ff; text-decoration-color: #00d7ff\">None</span>, <span style=\"color: #00af00; text-decoration-color: #00af00\">12</span>, <span style=\"color: #00af00; text-decoration-color: #00af00\">12</span>, <span style=\"color: #00af00; text-decoration-color: #00af00\">16</span>)     │             <span style=\"color: #00af00; text-decoration-color: #00af00\">0</span> │\n",
       "├─────────────────────────────────┼────────────────────────┼───────────────┤\n",
       "│ flatten (<span style=\"color: #0087ff; text-decoration-color: #0087ff\">Flatten</span>)               │ (<span style=\"color: #00d7ff; text-decoration-color: #00d7ff\">None</span>, <span style=\"color: #00af00; text-decoration-color: #00af00\">2304</span>)           │             <span style=\"color: #00af00; text-decoration-color: #00af00\">0</span> │\n",
       "├─────────────────────────────────┼────────────────────────┼───────────────┤\n",
       "│ dense (<span style=\"color: #0087ff; text-decoration-color: #0087ff\">Dense</span>)                   │ (<span style=\"color: #00d7ff; text-decoration-color: #00d7ff\">None</span>, <span style=\"color: #00af00; text-decoration-color: #00af00\">128</span>)            │       <span style=\"color: #00af00; text-decoration-color: #00af00\">295,040</span> │\n",
       "├─────────────────────────────────┼────────────────────────┼───────────────┤\n",
       "│ dropout_1 (<span style=\"color: #0087ff; text-decoration-color: #0087ff\">Dropout</span>)             │ (<span style=\"color: #00d7ff; text-decoration-color: #00d7ff\">None</span>, <span style=\"color: #00af00; text-decoration-color: #00af00\">128</span>)            │             <span style=\"color: #00af00; text-decoration-color: #00af00\">0</span> │\n",
       "├─────────────────────────────────┼────────────────────────┼───────────────┤\n",
       "│ dense_1 (<span style=\"color: #0087ff; text-decoration-color: #0087ff\">Dense</span>)                 │ (<span style=\"color: #00d7ff; text-decoration-color: #00d7ff\">None</span>, <span style=\"color: #00af00; text-decoration-color: #00af00\">10</span>)             │         <span style=\"color: #00af00; text-decoration-color: #00af00\">1,290</span> │\n",
       "└─────────────────────────────────┴────────────────────────┴───────────────┘\n",
       "</pre>\n"
      ],
      "text/plain": [
       "┏━━━━━━━━━━━━━━━━━━━━━━━━━━━━━━━━━┳━━━━━━━━━━━━━━━━━━━━━━━━┳━━━━━━━━━━━━━━━┓\n",
       "┃\u001b[1m \u001b[0m\u001b[1mLayer (type)                   \u001b[0m\u001b[1m \u001b[0m┃\u001b[1m \u001b[0m\u001b[1mOutput Shape          \u001b[0m\u001b[1m \u001b[0m┃\u001b[1m \u001b[0m\u001b[1m      Param #\u001b[0m\u001b[1m \u001b[0m┃\n",
       "┡━━━━━━━━━━━━━━━━━━━━━━━━━━━━━━━━━╇━━━━━━━━━━━━━━━━━━━━━━━━╇━━━━━━━━━━━━━━━┩\n",
       "│ conv2d (\u001b[38;5;33mConv2D\u001b[0m)                 │ (\u001b[38;5;45mNone\u001b[0m, \u001b[38;5;34m24\u001b[0m, \u001b[38;5;34m24\u001b[0m, \u001b[38;5;34m16\u001b[0m)     │           \u001b[38;5;34m416\u001b[0m │\n",
       "├─────────────────────────────────┼────────────────────────┼───────────────┤\n",
       "│ max_pooling2d (\u001b[38;5;33mMaxPooling2D\u001b[0m)    │ (\u001b[38;5;45mNone\u001b[0m, \u001b[38;5;34m12\u001b[0m, \u001b[38;5;34m12\u001b[0m, \u001b[38;5;34m16\u001b[0m)     │             \u001b[38;5;34m0\u001b[0m │\n",
       "├─────────────────────────────────┼────────────────────────┼───────────────┤\n",
       "│ dropout (\u001b[38;5;33mDropout\u001b[0m)               │ (\u001b[38;5;45mNone\u001b[0m, \u001b[38;5;34m12\u001b[0m, \u001b[38;5;34m12\u001b[0m, \u001b[38;5;34m16\u001b[0m)     │             \u001b[38;5;34m0\u001b[0m │\n",
       "├─────────────────────────────────┼────────────────────────┼───────────────┤\n",
       "│ flatten (\u001b[38;5;33mFlatten\u001b[0m)               │ (\u001b[38;5;45mNone\u001b[0m, \u001b[38;5;34m2304\u001b[0m)           │             \u001b[38;5;34m0\u001b[0m │\n",
       "├─────────────────────────────────┼────────────────────────┼───────────────┤\n",
       "│ dense (\u001b[38;5;33mDense\u001b[0m)                   │ (\u001b[38;5;45mNone\u001b[0m, \u001b[38;5;34m128\u001b[0m)            │       \u001b[38;5;34m295,040\u001b[0m │\n",
       "├─────────────────────────────────┼────────────────────────┼───────────────┤\n",
       "│ dropout_1 (\u001b[38;5;33mDropout\u001b[0m)             │ (\u001b[38;5;45mNone\u001b[0m, \u001b[38;5;34m128\u001b[0m)            │             \u001b[38;5;34m0\u001b[0m │\n",
       "├─────────────────────────────────┼────────────────────────┼───────────────┤\n",
       "│ dense_1 (\u001b[38;5;33mDense\u001b[0m)                 │ (\u001b[38;5;45mNone\u001b[0m, \u001b[38;5;34m10\u001b[0m)             │         \u001b[38;5;34m1,290\u001b[0m │\n",
       "└─────────────────────────────────┴────────────────────────┴───────────────┘\n"
      ]
     },
     "metadata": {},
     "output_type": "display_data"
    },
    {
     "data": {
      "text/html": [
       "<pre style=\"white-space:pre;overflow-x:auto;line-height:normal;font-family:Menlo,'DejaVu Sans Mono',consolas,'Courier New',monospace\"><span style=\"font-weight: bold\"> Total params: </span><span style=\"color: #00af00; text-decoration-color: #00af00\">296,746</span> (1.13 MB)\n",
       "</pre>\n"
      ],
      "text/plain": [
       "\u001b[1m Total params: \u001b[0m\u001b[38;5;34m296,746\u001b[0m (1.13 MB)\n"
      ]
     },
     "metadata": {},
     "output_type": "display_data"
    },
    {
     "data": {
      "text/html": [
       "<pre style=\"white-space:pre;overflow-x:auto;line-height:normal;font-family:Menlo,'DejaVu Sans Mono',consolas,'Courier New',monospace\"><span style=\"font-weight: bold\"> Trainable params: </span><span style=\"color: #00af00; text-decoration-color: #00af00\">296,746</span> (1.13 MB)\n",
       "</pre>\n"
      ],
      "text/plain": [
       "\u001b[1m Trainable params: \u001b[0m\u001b[38;5;34m296,746\u001b[0m (1.13 MB)\n"
      ]
     },
     "metadata": {},
     "output_type": "display_data"
    },
    {
     "data": {
      "text/html": [
       "<pre style=\"white-space:pre;overflow-x:auto;line-height:normal;font-family:Menlo,'DejaVu Sans Mono',consolas,'Courier New',monospace\"><span style=\"font-weight: bold\"> Non-trainable params: </span><span style=\"color: #00af00; text-decoration-color: #00af00\">0</span> (0.00 B)\n",
       "</pre>\n"
      ],
      "text/plain": [
       "\u001b[1m Non-trainable params: \u001b[0m\u001b[38;5;34m0\u001b[0m (0.00 B)\n"
      ]
     },
     "metadata": {},
     "output_type": "display_data"
    }
   ],
   "source": [
    "model.summary()"
   ]
  },
  {
   "cell_type": "markdown",
   "id": "246b9cf5",
   "metadata": {},
   "source": [
    "## Train Model with K-Fold Cross Validation"
   ]
  },
  {
   "cell_type": "code",
   "execution_count": 13,
   "id": "a02754b6",
   "metadata": {},
   "outputs": [
    {
     "name": "stdout",
     "output_type": "stream",
     "text": [
      "\n",
      "Training on Split #0\n",
      "\n",
      "75600 train samples\n",
      "4200 test samples\n",
      "Epoch 1/12\n",
      "\u001b[1m591/591\u001b[0m \u001b[32m━━━━━━━━━━━━━━━━━━━━\u001b[0m\u001b[37m\u001b[0m \u001b[1m27s\u001b[0m 44ms/step - accuracy: 0.1184 - loss: 2.3254 - val_accuracy: 0.2483 - val_loss: 2.2366\n",
      "Epoch 2/12\n",
      "\u001b[1m591/591\u001b[0m \u001b[32m━━━━━━━━━━━━━━━━━━━━\u001b[0m\u001b[37m\u001b[0m \u001b[1m23s\u001b[0m 39ms/step - accuracy: 0.1644 - loss: 2.2564 - val_accuracy: 0.4095 - val_loss: 2.1689\n",
      "Epoch 3/12\n",
      "\u001b[1m591/591\u001b[0m \u001b[32m━━━━━━━━━━━━━━━━━━━━\u001b[0m\u001b[37m\u001b[0m \u001b[1m22s\u001b[0m 38ms/step - accuracy: 0.2139 - loss: 2.1961 - val_accuracy: 0.5214 - val_loss: 2.1030\n",
      "Epoch 4/12\n",
      "\u001b[1m591/591\u001b[0m \u001b[32m━━━━━━━━━━━━━━━━━━━━\u001b[0m\u001b[37m\u001b[0m \u001b[1m23s\u001b[0m 39ms/step - accuracy: 0.2772 - loss: 2.1352 - val_accuracy: 0.6117 - val_loss: 2.0354\n",
      "Epoch 5/12\n",
      "\u001b[1m591/591\u001b[0m \u001b[32m━━━━━━━━━━━━━━━━━━━━\u001b[0m\u001b[37m\u001b[0m \u001b[1m23s\u001b[0m 38ms/step - accuracy: 0.3284 - loss: 2.0750 - val_accuracy: 0.6679 - val_loss: 1.9633\n",
      "Epoch 6/12\n",
      "\u001b[1m591/591\u001b[0m \u001b[32m━━━━━━━━━━━━━━━━━━━━\u001b[0m\u001b[37m\u001b[0m \u001b[1m23s\u001b[0m 38ms/step - accuracy: 0.3790 - loss: 2.0122 - val_accuracy: 0.7093 - val_loss: 1.8859\n",
      "Epoch 7/12\n",
      "\u001b[1m591/591\u001b[0m \u001b[32m━━━━━━━━━━━━━━━━━━━━\u001b[0m\u001b[37m\u001b[0m \u001b[1m24s\u001b[0m 41ms/step - accuracy: 0.4265 - loss: 1.9457 - val_accuracy: 0.7364 - val_loss: 1.8036\n",
      "Epoch 8/12\n",
      "\u001b[1m591/591\u001b[0m \u001b[32m━━━━━━━━━━━━━━━━━━━━\u001b[0m\u001b[37m\u001b[0m \u001b[1m24s\u001b[0m 40ms/step - accuracy: 0.4598 - loss: 1.8758 - val_accuracy: 0.7583 - val_loss: 1.7178\n",
      "Epoch 9/12\n",
      "\u001b[1m591/591\u001b[0m \u001b[32m━━━━━━━━━━━━━━━━━━━━\u001b[0m\u001b[37m\u001b[0m \u001b[1m23s\u001b[0m 39ms/step - accuracy: 0.4970 - loss: 1.8058 - val_accuracy: 0.7757 - val_loss: 1.6305\n",
      "Epoch 10/12\n",
      "\u001b[1m591/591\u001b[0m \u001b[32m━━━━━━━━━━━━━━━━━━━━\u001b[0m\u001b[37m\u001b[0m \u001b[1m23s\u001b[0m 40ms/step - accuracy: 0.5252 - loss: 1.7331 - val_accuracy: 0.7881 - val_loss: 1.5439\n",
      "Epoch 11/12\n",
      "\u001b[1m591/591\u001b[0m \u001b[32m━━━━━━━━━━━━━━━━━━━━\u001b[0m\u001b[37m\u001b[0m \u001b[1m24s\u001b[0m 41ms/step - accuracy: 0.5519 - loss: 1.6595 - val_accuracy: 0.7967 - val_loss: 1.4593\n",
      "Epoch 12/12\n",
      "\u001b[1m591/591\u001b[0m \u001b[32m━━━━━━━━━━━━━━━━━━━━\u001b[0m\u001b[37m\u001b[0m \u001b[1m23s\u001b[0m 39ms/step - accuracy: 0.5760 - loss: 1.5867 - val_accuracy: 0.8029 - val_loss: 1.3785\n",
      "Time Elapsed: 283.969049 seconds\n",
      "Test loss: 1.3785113096237183\n",
      "Test accuracy: 0.8028571605682373\n",
      "Time Elapsed: 0.525367 seconds\n",
      "Train loss: 1.394872784614563\n",
      "Train accuracy: 0.7901719808578491\n",
      "Time Elapsed: 8.242268 seconds\n",
      "\n",
      "Training on Split #1\n",
      "\n",
      "75600 train samples\n",
      "4200 test samples\n",
      "Epoch 1/12\n",
      "\u001b[1m591/591\u001b[0m \u001b[32m━━━━━━━━━━━━━━━━━━━━\u001b[0m\u001b[37m\u001b[0m \u001b[1m25s\u001b[0m 41ms/step - accuracy: 0.5930 - loss: 1.5209 - val_accuracy: 0.8002 - val_loss: 1.3141\n",
      "Epoch 2/12\n",
      "\u001b[1m591/591\u001b[0m \u001b[32m━━━━━━━━━━━━━━━━━━━━\u001b[0m\u001b[37m\u001b[0m \u001b[1m24s\u001b[0m 41ms/step - accuracy: 0.6092 - loss: 1.4557 - val_accuracy: 0.8060 - val_loss: 1.2414\n",
      "Epoch 3/12\n",
      "\u001b[1m591/591\u001b[0m \u001b[32m━━━━━━━━━━━━━━━━━━━━\u001b[0m\u001b[37m\u001b[0m \u001b[1m25s\u001b[0m 42ms/step - accuracy: 0.6266 - loss: 1.3870 - val_accuracy: 0.8114 - val_loss: 1.1746\n",
      "Epoch 4/12\n",
      "\u001b[1m591/591\u001b[0m \u001b[32m━━━━━━━━━━━━━━━━━━━━\u001b[0m\u001b[37m\u001b[0m \u001b[1m25s\u001b[0m 42ms/step - accuracy: 0.6384 - loss: 1.3397 - val_accuracy: 0.8152 - val_loss: 1.1123\n",
      "Epoch 5/12\n",
      "\u001b[1m591/591\u001b[0m \u001b[32m━━━━━━━━━━━━━━━━━━━━\u001b[0m\u001b[37m\u001b[0m \u001b[1m25s\u001b[0m 43ms/step - accuracy: 0.6488 - loss: 1.2863 - val_accuracy: 0.8176 - val_loss: 1.0560\n",
      "Epoch 6/12\n",
      "\u001b[1m591/591\u001b[0m \u001b[32m━━━━━━━━━━━━━━━━━━━━\u001b[0m\u001b[37m\u001b[0m \u001b[1m25s\u001b[0m 42ms/step - accuracy: 0.6641 - loss: 1.2316 - val_accuracy: 0.8202 - val_loss: 1.0043\n",
      "Epoch 7/12\n",
      "\u001b[1m591/591\u001b[0m \u001b[32m━━━━━━━━━━━━━━━━━━━━\u001b[0m\u001b[37m\u001b[0m \u001b[1m25s\u001b[0m 43ms/step - accuracy: 0.6681 - loss: 1.1919 - val_accuracy: 0.8229 - val_loss: 0.9578\n",
      "Epoch 8/12\n",
      "\u001b[1m591/591\u001b[0m \u001b[32m━━━━━━━━━━━━━━━━━━━━\u001b[0m\u001b[37m\u001b[0m \u001b[1m26s\u001b[0m 43ms/step - accuracy: 0.6778 - loss: 1.1532 - val_accuracy: 0.8281 - val_loss: 0.9156\n",
      "Epoch 9/12\n",
      "\u001b[1m591/591\u001b[0m \u001b[32m━━━━━━━━━━━━━━━━━━━━\u001b[0m\u001b[37m\u001b[0m \u001b[1m25s\u001b[0m 43ms/step - accuracy: 0.6845 - loss: 1.1183 - val_accuracy: 0.8302 - val_loss: 0.8771\n",
      "Epoch 10/12\n",
      "\u001b[1m591/591\u001b[0m \u001b[32m━━━━━━━━━━━━━━━━━━━━\u001b[0m\u001b[37m\u001b[0m \u001b[1m26s\u001b[0m 43ms/step - accuracy: 0.6964 - loss: 1.0783 - val_accuracy: 0.8326 - val_loss: 0.8421\n",
      "Epoch 11/12\n",
      "\u001b[1m591/591\u001b[0m \u001b[32m━━━━━━━━━━━━━━━━━━━━\u001b[0m\u001b[37m\u001b[0m \u001b[1m27s\u001b[0m 45ms/step - accuracy: 0.6982 - loss: 1.0531 - val_accuracy: 0.8364 - val_loss: 0.8105\n",
      "Epoch 12/12\n",
      "\u001b[1m591/591\u001b[0m \u001b[32m━━━━━━━━━━━━━━━━━━━━\u001b[0m\u001b[37m\u001b[0m \u001b[1m25s\u001b[0m 43ms/step - accuracy: 0.7066 - loss: 1.0159 - val_accuracy: 0.8390 - val_loss: 0.7816\n",
      "Time Elapsed: 302.693762 seconds\n",
      "Test loss: 0.7815755009651184\n",
      "Test accuracy: 0.8390476107597351\n",
      "Time Elapsed: 0.49895 seconds\n",
      "Train loss: 0.7841943502426147\n",
      "Train accuracy: 0.836904764175415\n",
      "Time Elapsed: 9.082197 seconds\n",
      "\n",
      "Training on Split #2\n",
      "\n",
      "75600 train samples\n",
      "4200 test samples\n",
      "Epoch 1/12\n",
      "\u001b[1m591/591\u001b[0m \u001b[32m━━━━━━━━━━━━━━━━━━━━\u001b[0m\u001b[37m\u001b[0m \u001b[1m27s\u001b[0m 45ms/step - accuracy: 0.7120 - loss: 0.9924 - val_accuracy: 0.8369 - val_loss: 0.7604\n",
      "Epoch 2/12\n",
      "\u001b[1m591/591\u001b[0m \u001b[32m━━━━━━━━━━━━━━━━━━━━\u001b[0m\u001b[37m\u001b[0m \u001b[1m27s\u001b[0m 45ms/step - accuracy: 0.7192 - loss: 0.9687 - val_accuracy: 0.8400 - val_loss: 0.7362\n",
      "Epoch 3/12\n",
      "\u001b[1m591/591\u001b[0m \u001b[32m━━━━━━━━━━━━━━━━━━━━\u001b[0m\u001b[37m\u001b[0m \u001b[1m24s\u001b[0m 41ms/step - accuracy: 0.7237 - loss: 0.9483 - val_accuracy: 0.8410 - val_loss: 0.7141\n",
      "Epoch 4/12\n",
      "\u001b[1m591/591\u001b[0m \u001b[32m━━━━━━━━━━━━━━━━━━━━\u001b[0m\u001b[37m\u001b[0m \u001b[1m24s\u001b[0m 40ms/step - accuracy: 0.7283 - loss: 0.9259 - val_accuracy: 0.8436 - val_loss: 0.6937\n",
      "Epoch 5/12\n",
      "\u001b[1m591/591\u001b[0m \u001b[32m━━━━━━━━━━━━━━━━━━━━\u001b[0m\u001b[37m\u001b[0m \u001b[1m24s\u001b[0m 40ms/step - accuracy: 0.7318 - loss: 0.9032 - val_accuracy: 0.8467 - val_loss: 0.6745\n",
      "Epoch 6/12\n",
      "\u001b[1m591/591\u001b[0m \u001b[32m━━━━━━━━━━━━━━━━━━━━\u001b[0m\u001b[37m\u001b[0m \u001b[1m25s\u001b[0m 43ms/step - accuracy: 0.7399 - loss: 0.8823 - val_accuracy: 0.8493 - val_loss: 0.6564\n",
      "Epoch 7/12\n",
      "\u001b[1m591/591\u001b[0m \u001b[32m━━━━━━━━━━━━━━━━━━━━\u001b[0m\u001b[37m\u001b[0m \u001b[1m24s\u001b[0m 41ms/step - accuracy: 0.7427 - loss: 0.8701 - val_accuracy: 0.8495 - val_loss: 0.6399\n",
      "Epoch 8/12\n",
      "\u001b[1m591/591\u001b[0m \u001b[32m━━━━━━━━━━━━━━━━━━━━\u001b[0m\u001b[37m\u001b[0m \u001b[1m25s\u001b[0m 41ms/step - accuracy: 0.7496 - loss: 0.8484 - val_accuracy: 0.8510 - val_loss: 0.6247\n",
      "Epoch 9/12\n",
      "\u001b[1m591/591\u001b[0m \u001b[32m━━━━━━━━━━━━━━━━━━━━\u001b[0m\u001b[37m\u001b[0m \u001b[1m24s\u001b[0m 41ms/step - accuracy: 0.7530 - loss: 0.8348 - val_accuracy: 0.8529 - val_loss: 0.6103\n",
      "Epoch 10/12\n",
      "\u001b[1m591/591\u001b[0m \u001b[32m━━━━━━━━━━━━━━━━━━━━\u001b[0m\u001b[37m\u001b[0m \u001b[1m25s\u001b[0m 42ms/step - accuracy: 0.7550 - loss: 0.8223 - val_accuracy: 0.8550 - val_loss: 0.5963\n",
      "Epoch 11/12\n",
      "\u001b[1m591/591\u001b[0m \u001b[32m━━━━━━━━━━━━━━━━━━━━\u001b[0m\u001b[37m\u001b[0m \u001b[1m25s\u001b[0m 43ms/step - accuracy: 0.7609 - loss: 0.8026 - val_accuracy: 0.8576 - val_loss: 0.5836\n",
      "Epoch 12/12\n",
      "\u001b[1m591/591\u001b[0m \u001b[32m━━━━━━━━━━━━━━━━━━━━\u001b[0m\u001b[37m\u001b[0m \u001b[1m42s\u001b[0m 44ms/step - accuracy: 0.7645 - loss: 0.7917 - val_accuracy: 0.8588 - val_loss: 0.5721\n",
      "Time Elapsed: 316.02305 seconds\n",
      "Test loss: 0.572104811668396\n",
      "Test accuracy: 0.8588095307350159\n",
      "Time Elapsed: 0.735974 seconds\n",
      "Train loss: 0.5707365274429321\n",
      "Train accuracy: 0.8631481528282166\n",
      "Time Elapsed: 8.921708 seconds\n",
      "\n",
      "Training on Split #3\n",
      "\n",
      "75600 train samples\n",
      "4200 test samples\n",
      "Epoch 1/12\n",
      "\u001b[1m591/591\u001b[0m \u001b[32m━━━━━━━━━━━━━━━━━━━━\u001b[0m\u001b[37m\u001b[0m \u001b[1m26s\u001b[0m 44ms/step - accuracy: 0.7649 - loss: 0.7855 - val_accuracy: 0.8583 - val_loss: 0.5714\n",
      "Epoch 2/12\n",
      "\u001b[1m591/591\u001b[0m \u001b[32m━━━━━━━━━━━━━━━━━━━━\u001b[0m\u001b[37m\u001b[0m \u001b[1m42s\u001b[0m 46ms/step - accuracy: 0.7729 - loss: 0.7603 - val_accuracy: 0.8598 - val_loss: 0.5607\n",
      "Epoch 3/12\n",
      "\u001b[1m591/591\u001b[0m \u001b[32m━━━━━━━━━━━━━━━━━━━━\u001b[0m\u001b[37m\u001b[0m \u001b[1m28s\u001b[0m 47ms/step - accuracy: 0.7777 - loss: 0.7514 - val_accuracy: 0.8607 - val_loss: 0.5507\n",
      "Epoch 4/12\n",
      "\u001b[1m591/591\u001b[0m \u001b[32m━━━━━━━━━━━━━━━━━━━━\u001b[0m\u001b[37m\u001b[0m \u001b[1m27s\u001b[0m 46ms/step - accuracy: 0.7765 - loss: 0.7427 - val_accuracy: 0.8617 - val_loss: 0.5412\n",
      "Epoch 5/12\n",
      "\u001b[1m591/591\u001b[0m \u001b[32m━━━━━━━━━━━━━━━━━━━━\u001b[0m\u001b[37m\u001b[0m \u001b[1m26s\u001b[0m 45ms/step - accuracy: 0.7801 - loss: 0.7339 - val_accuracy: 0.8643 - val_loss: 0.5324\n",
      "Epoch 6/12\n",
      "\u001b[1m591/591\u001b[0m \u001b[32m━━━━━━━━━━━━━━━━━━━━\u001b[0m\u001b[37m\u001b[0m \u001b[1m26s\u001b[0m 44ms/step - accuracy: 0.7821 - loss: 0.7229 - val_accuracy: 0.8660 - val_loss: 0.5240\n",
      "Epoch 7/12\n",
      "\u001b[1m591/591\u001b[0m \u001b[32m━━━━━━━━━━━━━━━━━━━━\u001b[0m\u001b[37m\u001b[0m \u001b[1m27s\u001b[0m 45ms/step - accuracy: 0.7853 - loss: 0.7152 - val_accuracy: 0.8676 - val_loss: 0.5157\n",
      "Epoch 8/12\n",
      "\u001b[1m591/591\u001b[0m \u001b[32m━━━━━━━━━━━━━━━━━━━━\u001b[0m\u001b[37m\u001b[0m \u001b[1m26s\u001b[0m 44ms/step - accuracy: 0.7882 - loss: 0.7083 - val_accuracy: 0.8679 - val_loss: 0.5080\n",
      "Epoch 9/12\n"
     ]
    },
    {
     "name": "stdout",
     "output_type": "stream",
     "text": [
      "\u001b[1m591/591\u001b[0m \u001b[32m━━━━━━━━━━━━━━━━━━━━\u001b[0m\u001b[37m\u001b[0m \u001b[1m23s\u001b[0m 39ms/step - accuracy: 0.7878 - loss: 0.6994 - val_accuracy: 0.8690 - val_loss: 0.5008\n",
      "Epoch 10/12\n",
      "\u001b[1m591/591\u001b[0m \u001b[32m━━━━━━━━━━━━━━━━━━━━\u001b[0m\u001b[37m\u001b[0m \u001b[1m24s\u001b[0m 40ms/step - accuracy: 0.7935 - loss: 0.6824 - val_accuracy: 0.8702 - val_loss: 0.4937\n",
      "Epoch 11/12\n",
      "\u001b[1m591/591\u001b[0m \u001b[32m━━━━━━━━━━━━━━━━━━━━\u001b[0m\u001b[37m\u001b[0m \u001b[1m24s\u001b[0m 41ms/step - accuracy: 0.7991 - loss: 0.6762 - val_accuracy: 0.8714 - val_loss: 0.4866\n",
      "Epoch 12/12\n",
      "\u001b[1m591/591\u001b[0m \u001b[32m━━━━━━━━━━━━━━━━━━━━\u001b[0m\u001b[37m\u001b[0m \u001b[1m23s\u001b[0m 39ms/step - accuracy: 0.7971 - loss: 0.6746 - val_accuracy: 0.8731 - val_loss: 0.4804\n",
      "Time Elapsed: 341.801792 seconds\n",
      "Test loss: 0.480358749628067\n",
      "Test accuracy: 0.8730952143669128\n",
      "Time Elapsed: 0.497346 seconds\n",
      "Train loss: 0.46847838163375854\n",
      "Train accuracy: 0.8808994889259338\n",
      "Time Elapsed: 7.579678 seconds\n",
      "\n",
      "Training on Split #4\n",
      "\n",
      "75600 train samples\n",
      "4200 test samples\n",
      "Epoch 1/12\n",
      "\u001b[1m591/591\u001b[0m \u001b[32m━━━━━━━━━━━━━━━━━━━━\u001b[0m\u001b[37m\u001b[0m \u001b[1m23s\u001b[0m 40ms/step - accuracy: 0.8009 - loss: 0.6645 - val_accuracy: 0.8845 - val_loss: 0.4548\n",
      "Epoch 2/12\n",
      "\u001b[1m591/591\u001b[0m \u001b[32m━━━━━━━━━━━━━━━━━━━━\u001b[0m\u001b[37m\u001b[0m \u001b[1m23s\u001b[0m 39ms/step - accuracy: 0.8017 - loss: 0.6591 - val_accuracy: 0.8862 - val_loss: 0.4491\n",
      "Epoch 3/12\n",
      "\u001b[1m591/591\u001b[0m \u001b[32m━━━━━━━━━━━━━━━━━━━━\u001b[0m\u001b[37m\u001b[0m \u001b[1m23s\u001b[0m 39ms/step - accuracy: 0.8040 - loss: 0.6539 - val_accuracy: 0.8869 - val_loss: 0.4435\n",
      "Epoch 4/12\n",
      "\u001b[1m591/591\u001b[0m \u001b[32m━━━━━━━━━━━━━━━━━━━━\u001b[0m\u001b[37m\u001b[0m \u001b[1m24s\u001b[0m 40ms/step - accuracy: 0.8059 - loss: 0.6423 - val_accuracy: 0.8879 - val_loss: 0.4382\n",
      "Epoch 5/12\n",
      "\u001b[1m591/591\u001b[0m \u001b[32m━━━━━━━━━━━━━━━━━━━━\u001b[0m\u001b[37m\u001b[0m \u001b[1m24s\u001b[0m 40ms/step - accuracy: 0.8047 - loss: 0.6437 - val_accuracy: 0.8883 - val_loss: 0.4331\n",
      "Epoch 6/12\n",
      "\u001b[1m591/591\u001b[0m \u001b[32m━━━━━━━━━━━━━━━━━━━━\u001b[0m\u001b[37m\u001b[0m \u001b[1m23s\u001b[0m 40ms/step - accuracy: 0.8093 - loss: 0.6337 - val_accuracy: 0.8893 - val_loss: 0.4283\n",
      "Epoch 7/12\n",
      "\u001b[1m591/591\u001b[0m \u001b[32m━━━━━━━━━━━━━━━━━━━━\u001b[0m\u001b[37m\u001b[0m \u001b[1m24s\u001b[0m 40ms/step - accuracy: 0.8123 - loss: 0.6221 - val_accuracy: 0.8905 - val_loss: 0.4234\n",
      "Epoch 8/12\n",
      "\u001b[1m591/591\u001b[0m \u001b[32m━━━━━━━━━━━━━━━━━━━━\u001b[0m\u001b[37m\u001b[0m \u001b[1m24s\u001b[0m 41ms/step - accuracy: 0.8128 - loss: 0.6192 - val_accuracy: 0.8910 - val_loss: 0.4188\n",
      "Epoch 9/12\n",
      "\u001b[1m591/591\u001b[0m \u001b[32m━━━━━━━━━━━━━━━━━━━━\u001b[0m\u001b[37m\u001b[0m \u001b[1m25s\u001b[0m 41ms/step - accuracy: 0.8115 - loss: 0.6205 - val_accuracy: 0.8926 - val_loss: 0.4144\n",
      "Epoch 10/12\n",
      "\u001b[1m591/591\u001b[0m \u001b[32m━━━━━━━━━━━━━━━━━━━━\u001b[0m\u001b[37m\u001b[0m \u001b[1m25s\u001b[0m 42ms/step - accuracy: 0.8171 - loss: 0.6073 - val_accuracy: 0.8926 - val_loss: 0.4101\n",
      "Epoch 11/12\n",
      "\u001b[1m591/591\u001b[0m \u001b[32m━━━━━━━━━━━━━━━━━━━━\u001b[0m\u001b[37m\u001b[0m \u001b[1m24s\u001b[0m 41ms/step - accuracy: 0.8184 - loss: 0.6012 - val_accuracy: 0.8936 - val_loss: 0.4058\n",
      "Epoch 12/12\n",
      "\u001b[1m591/591\u001b[0m \u001b[32m━━━━━━━━━━━━━━━━━━━━\u001b[0m\u001b[37m\u001b[0m \u001b[1m25s\u001b[0m 42ms/step - accuracy: 0.8180 - loss: 0.5990 - val_accuracy: 0.8936 - val_loss: 0.4017\n",
      "Time Elapsed: 287.490101 seconds\n",
      "Test loss: 0.4017355144023895\n",
      "Test accuracy: 0.8935714364051819\n",
      "Time Elapsed: 0.543082 seconds\n",
      "Train loss: 0.41065892577171326\n",
      "Train accuracy: 0.8921428322792053\n",
      "Time Elapsed: 8.242995 seconds\n",
      "\n",
      "Training on Split #5\n",
      "\n",
      "75600 train samples\n",
      "4200 test samples\n",
      "Epoch 1/12\n",
      "\u001b[1m591/591\u001b[0m \u001b[32m━━━━━━━━━━━━━━━━━━━━\u001b[0m\u001b[37m\u001b[0m \u001b[1m25s\u001b[0m 42ms/step - accuracy: 0.8188 - loss: 0.5959 - val_accuracy: 0.8912 - val_loss: 0.4161\n",
      "Epoch 2/12\n",
      "\u001b[1m591/591\u001b[0m \u001b[32m━━━━━━━━━━━━━━━━━━━━\u001b[0m\u001b[37m\u001b[0m \u001b[1m26s\u001b[0m 44ms/step - accuracy: 0.8216 - loss: 0.5876 - val_accuracy: 0.8924 - val_loss: 0.4126\n",
      "Epoch 3/12\n",
      "\u001b[1m591/591\u001b[0m \u001b[32m━━━━━━━━━━━━━━━━━━━━\u001b[0m\u001b[37m\u001b[0m \u001b[1m39s\u001b[0m 41ms/step - accuracy: 0.8256 - loss: 0.5778 - val_accuracy: 0.8936 - val_loss: 0.4089\n",
      "Epoch 4/12\n",
      "\u001b[1m591/591\u001b[0m \u001b[32m━━━━━━━━━━━━━━━━━━━━\u001b[0m\u001b[37m\u001b[0m \u001b[1m23s\u001b[0m 40ms/step - accuracy: 0.8276 - loss: 0.5706 - val_accuracy: 0.8940 - val_loss: 0.4054\n",
      "Epoch 5/12\n",
      "\u001b[1m591/591\u001b[0m \u001b[32m━━━━━━━━━━━━━━━━━━━━\u001b[0m\u001b[37m\u001b[0m \u001b[1m24s\u001b[0m 40ms/step - accuracy: 0.8260 - loss: 0.5711 - val_accuracy: 0.8945 - val_loss: 0.4021\n",
      "Epoch 6/12\n",
      "\u001b[1m591/591\u001b[0m \u001b[32m━━━━━━━━━━━━━━━━━━━━\u001b[0m\u001b[37m\u001b[0m \u001b[1m24s\u001b[0m 41ms/step - accuracy: 0.8304 - loss: 0.5628 - val_accuracy: 0.8950 - val_loss: 0.3989\n",
      "Epoch 7/12\n",
      "\u001b[1m591/591\u001b[0m \u001b[32m━━━━━━━━━━━━━━━━━━━━\u001b[0m\u001b[37m\u001b[0m \u001b[1m24s\u001b[0m 40ms/step - accuracy: 0.8332 - loss: 0.5623 - val_accuracy: 0.8950 - val_loss: 0.3957\n",
      "Epoch 8/12\n",
      "\u001b[1m591/591\u001b[0m \u001b[32m━━━━━━━━━━━━━━━━━━━━\u001b[0m\u001b[37m\u001b[0m \u001b[1m41s\u001b[0m 40ms/step - accuracy: 0.8292 - loss: 0.5599 - val_accuracy: 0.8962 - val_loss: 0.3927\n",
      "Epoch 9/12\n",
      "\u001b[1m591/591\u001b[0m \u001b[32m━━━━━━━━━━━━━━━━━━━━\u001b[0m\u001b[37m\u001b[0m \u001b[1m26s\u001b[0m 44ms/step - accuracy: 0.8308 - loss: 0.5591 - val_accuracy: 0.8964 - val_loss: 0.3898\n",
      "Epoch 10/12\n",
      "\u001b[1m591/591\u001b[0m \u001b[32m━━━━━━━━━━━━━━━━━━━━\u001b[0m\u001b[37m\u001b[0m \u001b[1m25s\u001b[0m 41ms/step - accuracy: 0.8335 - loss: 0.5491 - val_accuracy: 0.8971 - val_loss: 0.3870\n",
      "Epoch 11/12\n",
      "\u001b[1m591/591\u001b[0m \u001b[32m━━━━━━━━━━━━━━━━━━━━\u001b[0m\u001b[37m\u001b[0m \u001b[1m24s\u001b[0m 40ms/step - accuracy: 0.8371 - loss: 0.5451 - val_accuracy: 0.8971 - val_loss: 0.3843\n",
      "Epoch 12/12\n",
      "\u001b[1m591/591\u001b[0m \u001b[32m━━━━━━━━━━━━━━━━━━━━\u001b[0m\u001b[37m\u001b[0m \u001b[1m24s\u001b[0m 40ms/step - accuracy: 0.8358 - loss: 0.5443 - val_accuracy: 0.8981 - val_loss: 0.3816\n",
      "Time Elapsed: 324.414257 seconds\n",
      "Test loss: 0.3815603256225586\n",
      "Test accuracy: 0.8980952501296997\n",
      "Time Elapsed: 0.627241 seconds\n",
      "Train loss: 0.36695200204849243\n",
      "Train accuracy: 0.9009259343147278\n",
      "Time Elapsed: 9.435479 seconds\n",
      "\n",
      "Training on Split #6\n",
      "\n",
      "75600 train samples\n",
      "4200 test samples\n",
      "Epoch 1/12\n",
      "\u001b[1m591/591\u001b[0m \u001b[32m━━━━━━━━━━━━━━━━━━━━\u001b[0m\u001b[37m\u001b[0m \u001b[1m25s\u001b[0m 43ms/step - accuracy: 0.8358 - loss: 0.5400 - val_accuracy: 0.8960 - val_loss: 0.3737\n",
      "Epoch 2/12\n",
      "\u001b[1m591/591\u001b[0m \u001b[32m━━━━━━━━━━━━━━━━━━━━\u001b[0m\u001b[37m\u001b[0m \u001b[1m25s\u001b[0m 43ms/step - accuracy: 0.8361 - loss: 0.5397 - val_accuracy: 0.8960 - val_loss: 0.3711\n",
      "Epoch 3/12\n",
      "\u001b[1m591/591\u001b[0m \u001b[32m━━━━━━━━━━━━━━━━━━━━\u001b[0m\u001b[37m\u001b[0m \u001b[1m26s\u001b[0m 44ms/step - accuracy: 0.8417 - loss: 0.5321 - val_accuracy: 0.8969 - val_loss: 0.3682\n",
      "Epoch 4/12\n",
      "\u001b[1m591/591\u001b[0m \u001b[32m━━━━━━━━━━━━━━━━━━━━\u001b[0m\u001b[37m\u001b[0m \u001b[1m26s\u001b[0m 43ms/step - accuracy: 0.8413 - loss: 0.5277 - val_accuracy: 0.8974 - val_loss: 0.3658\n",
      "Epoch 5/12\n",
      "\u001b[1m591/591\u001b[0m \u001b[32m━━━━━━━━━━━━━━━━━━━━\u001b[0m\u001b[37m\u001b[0m \u001b[1m26s\u001b[0m 44ms/step - accuracy: 0.8408 - loss: 0.5278 - val_accuracy: 0.8986 - val_loss: 0.3633\n",
      "Epoch 6/12\n",
      "\u001b[1m591/591\u001b[0m \u001b[32m━━━━━━━━━━━━━━━━━━━━\u001b[0m\u001b[37m\u001b[0m \u001b[1m26s\u001b[0m 44ms/step - accuracy: 0.8415 - loss: 0.5247 - val_accuracy: 0.8995 - val_loss: 0.3606\n",
      "Epoch 7/12\n",
      "\u001b[1m591/591\u001b[0m \u001b[32m━━━━━━━━━━━━━━━━━━━━\u001b[0m\u001b[37m\u001b[0m \u001b[1m26s\u001b[0m 43ms/step - accuracy: 0.8447 - loss: 0.5162 - val_accuracy: 0.9002 - val_loss: 0.3584\n",
      "Epoch 8/12\n",
      "\u001b[1m591/591\u001b[0m \u001b[32m━━━━━━━━━━━━━━━━━━━━\u001b[0m\u001b[37m\u001b[0m \u001b[1m27s\u001b[0m 46ms/step - accuracy: 0.8473 - loss: 0.5067 - val_accuracy: 0.9007 - val_loss: 0.3559\n",
      "Epoch 9/12\n",
      "\u001b[1m591/591\u001b[0m \u001b[32m━━━━━━━━━━━━━━━━━━━━\u001b[0m\u001b[37m\u001b[0m \u001b[1m26s\u001b[0m 44ms/step - accuracy: 0.8427 - loss: 0.5221 - val_accuracy: 0.9019 - val_loss: 0.3535\n",
      "Epoch 10/12\n",
      "\u001b[1m591/591\u001b[0m \u001b[32m━━━━━━━━━━━━━━━━━━━━\u001b[0m\u001b[37m\u001b[0m \u001b[1m26s\u001b[0m 43ms/step - accuracy: 0.8444 - loss: 0.5108 - val_accuracy: 0.9021 - val_loss: 0.3513\n",
      "Epoch 11/12\n",
      "\u001b[1m591/591\u001b[0m \u001b[32m━━━━━━━━━━━━━━━━━━━━\u001b[0m\u001b[37m\u001b[0m \u001b[1m28s\u001b[0m 47ms/step - accuracy: 0.8476 - loss: 0.5089 - val_accuracy: 0.9026 - val_loss: 0.3492\n",
      "Epoch 12/12\n",
      "\u001b[1m591/591\u001b[0m \u001b[32m━━━━━━━━━━━━━━━━━━━━\u001b[0m\u001b[37m\u001b[0m \u001b[1m39s\u001b[0m 44ms/step - accuracy: 0.8502 - loss: 0.4981 - val_accuracy: 0.9036 - val_loss: 0.3470\n",
      "Time Elapsed: 326.515015 seconds\n",
      "Test loss: 0.3470355272293091\n",
      "Test accuracy: 0.9035714268684387\n",
      "Time Elapsed: 0.514955 seconds\n",
      "Train loss: 0.33730146288871765\n",
      "Train accuracy: 0.9084391593933105\n",
      "Time Elapsed: 8.241516 seconds\n",
      "\n",
      "Training on Split #7\n",
      "\n",
      "75600 train samples\n",
      "4200 test samples\n",
      "Epoch 1/12\n",
      "\u001b[1m591/591\u001b[0m \u001b[32m━━━━━━━━━━━━━━━━━━━━\u001b[0m\u001b[37m\u001b[0m \u001b[1m25s\u001b[0m 42ms/step - accuracy: 0.8493 - loss: 0.5038 - val_accuracy: 0.9083 - val_loss: 0.3422\n",
      "Epoch 2/12\n",
      "\u001b[1m591/591\u001b[0m \u001b[32m━━━━━━━━━━━━━━━━━━━━\u001b[0m\u001b[37m\u001b[0m \u001b[1m25s\u001b[0m 41ms/step - accuracy: 0.8501 - loss: 0.4941 - val_accuracy: 0.9086 - val_loss: 0.3402\n",
      "Epoch 3/12\n",
      "\u001b[1m591/591\u001b[0m \u001b[32m━━━━━━━━━━━━━━━━━━━━\u001b[0m\u001b[37m\u001b[0m \u001b[1m25s\u001b[0m 42ms/step - accuracy: 0.8511 - loss: 0.4960 - val_accuracy: 0.9093 - val_loss: 0.3380\n"
     ]
    },
    {
     "name": "stdout",
     "output_type": "stream",
     "text": [
      "Epoch 4/12\n",
      "\u001b[1m591/591\u001b[0m \u001b[32m━━━━━━━━━━━━━━━━━━━━\u001b[0m\u001b[37m\u001b[0m \u001b[1m22s\u001b[0m 38ms/step - accuracy: 0.8563 - loss: 0.4849 - val_accuracy: 0.9090 - val_loss: 0.3360\n",
      "Epoch 5/12\n",
      "\u001b[1m591/591\u001b[0m \u001b[32m━━━━━━━━━━━━━━━━━━━━\u001b[0m\u001b[37m\u001b[0m \u001b[1m22s\u001b[0m 38ms/step - accuracy: 0.8510 - loss: 0.4940 - val_accuracy: 0.9098 - val_loss: 0.3340\n",
      "Epoch 6/12\n",
      "\u001b[1m591/591\u001b[0m \u001b[32m━━━━━━━━━━━━━━━━━━━━\u001b[0m\u001b[37m\u001b[0m \u001b[1m23s\u001b[0m 38ms/step - accuracy: 0.8515 - loss: 0.4917 - val_accuracy: 0.9098 - val_loss: 0.3320\n",
      "Epoch 7/12\n",
      "\u001b[1m591/591\u001b[0m \u001b[32m━━━━━━━━━━━━━━━━━━━━\u001b[0m\u001b[37m\u001b[0m \u001b[1m23s\u001b[0m 39ms/step - accuracy: 0.8527 - loss: 0.4884 - val_accuracy: 0.9105 - val_loss: 0.3300\n",
      "Epoch 8/12\n",
      "\u001b[1m591/591\u001b[0m \u001b[32m━━━━━━━━━━━━━━━━━━━━\u001b[0m\u001b[37m\u001b[0m \u001b[1m23s\u001b[0m 39ms/step - accuracy: 0.8532 - loss: 0.4872 - val_accuracy: 0.9107 - val_loss: 0.3281\n",
      "Epoch 9/12\n",
      "\u001b[1m591/591\u001b[0m \u001b[32m━━━━━━━━━━━━━━━━━━━━\u001b[0m\u001b[37m\u001b[0m \u001b[1m42s\u001b[0m 40ms/step - accuracy: 0.8579 - loss: 0.4790 - val_accuracy: 0.9110 - val_loss: 0.3263\n",
      "Epoch 10/12\n",
      "\u001b[1m591/591\u001b[0m \u001b[32m━━━━━━━━━━━━━━━━━━━━\u001b[0m\u001b[37m\u001b[0m \u001b[1m41s\u001b[0m 39ms/step - accuracy: 0.8522 - loss: 0.4809 - val_accuracy: 0.9114 - val_loss: 0.3246\n",
      "Epoch 11/12\n",
      "\u001b[1m591/591\u001b[0m \u001b[32m━━━━━━━━━━━━━━━━━━━━\u001b[0m\u001b[37m\u001b[0m \u001b[1m26s\u001b[0m 45ms/step - accuracy: 0.8579 - loss: 0.4696 - val_accuracy: 0.9124 - val_loss: 0.3225\n",
      "Epoch 12/12\n",
      "\u001b[1m591/591\u001b[0m \u001b[32m━━━━━━━━━━━━━━━━━━━━\u001b[0m\u001b[37m\u001b[0m \u001b[1m25s\u001b[0m 43ms/step - accuracy: 0.8566 - loss: 0.4761 - val_accuracy: 0.9136 - val_loss: 0.3208\n",
      "Time Elapsed: 322.055363 seconds\n",
      "Test loss: 0.3208284080028534\n",
      "Test accuracy: 0.9135714173316956\n",
      "Time Elapsed: 0.750133 seconds\n",
      "Train loss: 0.3140872120857239\n",
      "Train accuracy: 0.9131349325180054\n",
      "Time Elapsed: 10.418469 seconds\n",
      "\n",
      "Training on Split #8\n",
      "\n",
      "75600 train samples\n",
      "4200 test samples\n",
      "Epoch 1/12\n",
      "\u001b[1m591/591\u001b[0m \u001b[32m━━━━━━━━━━━━━━━━━━━━\u001b[0m\u001b[37m\u001b[0m \u001b[1m24s\u001b[0m 40ms/step - accuracy: 0.8589 - loss: 0.4705 - val_accuracy: 0.9188 - val_loss: 0.2987\n",
      "Epoch 2/12\n",
      "\u001b[1m591/591\u001b[0m \u001b[32m━━━━━━━━━━━━━━━━━━━━\u001b[0m\u001b[37m\u001b[0m \u001b[1m24s\u001b[0m 41ms/step - accuracy: 0.8588 - loss: 0.4707 - val_accuracy: 0.9193 - val_loss: 0.2971\n",
      "Epoch 3/12\n",
      "\u001b[1m591/591\u001b[0m \u001b[32m━━━━━━━━━━━━━━━━━━━━\u001b[0m\u001b[37m\u001b[0m \u001b[1m24s\u001b[0m 40ms/step - accuracy: 0.8560 - loss: 0.4718 - val_accuracy: 0.9207 - val_loss: 0.2956\n",
      "Epoch 4/12\n",
      "\u001b[1m591/591\u001b[0m \u001b[32m━━━━━━━━━━━━━━━━━━━━\u001b[0m\u001b[37m\u001b[0m \u001b[1m25s\u001b[0m 42ms/step - accuracy: 0.8622 - loss: 0.4626 - val_accuracy: 0.9200 - val_loss: 0.2940\n",
      "Epoch 5/12\n",
      "\u001b[1m591/591\u001b[0m \u001b[32m━━━━━━━━━━━━━━━━━━━━\u001b[0m\u001b[37m\u001b[0m \u001b[1m24s\u001b[0m 40ms/step - accuracy: 0.8595 - loss: 0.4685 - val_accuracy: 0.9205 - val_loss: 0.2925\n",
      "Epoch 6/12\n",
      "\u001b[1m591/591\u001b[0m \u001b[32m━━━━━━━━━━━━━━━━━━━━\u001b[0m\u001b[37m\u001b[0m \u001b[1m24s\u001b[0m 40ms/step - accuracy: 0.8621 - loss: 0.4595 - val_accuracy: 0.9210 - val_loss: 0.2908\n",
      "Epoch 7/12\n",
      "\u001b[1m591/591\u001b[0m \u001b[32m━━━━━━━━━━━━━━━━━━━━\u001b[0m\u001b[37m\u001b[0m \u001b[1m25s\u001b[0m 43ms/step - accuracy: 0.8633 - loss: 0.4584 - val_accuracy: 0.9212 - val_loss: 0.2891\n",
      "Epoch 8/12\n",
      "\u001b[1m591/591\u001b[0m \u001b[32m━━━━━━━━━━━━━━━━━━━━\u001b[0m\u001b[37m\u001b[0m \u001b[1m24s\u001b[0m 41ms/step - accuracy: 0.8652 - loss: 0.4527 - val_accuracy: 0.9214 - val_loss: 0.2876\n",
      "Epoch 9/12\n",
      "\u001b[1m591/591\u001b[0m \u001b[32m━━━━━━━━━━━━━━━━━━━━\u001b[0m\u001b[37m\u001b[0m \u001b[1m25s\u001b[0m 41ms/step - accuracy: 0.8629 - loss: 0.4566 - val_accuracy: 0.9219 - val_loss: 0.2861\n",
      "Epoch 10/12\n",
      "\u001b[1m591/591\u001b[0m \u001b[32m━━━━━━━━━━━━━━━━━━━━\u001b[0m\u001b[37m\u001b[0m \u001b[1m25s\u001b[0m 42ms/step - accuracy: 0.8646 - loss: 0.4506 - val_accuracy: 0.9221 - val_loss: 0.2844\n",
      "Epoch 11/12\n",
      "\u001b[1m591/591\u001b[0m \u001b[32m━━━━━━━━━━━━━━━━━━━━\u001b[0m\u001b[37m\u001b[0m \u001b[1m24s\u001b[0m 41ms/step - accuracy: 0.8637 - loss: 0.4530 - val_accuracy: 0.9221 - val_loss: 0.2829\n",
      "Epoch 12/12\n",
      "\u001b[1m591/591\u001b[0m \u001b[32m━━━━━━━━━━━━━━━━━━━━\u001b[0m\u001b[37m\u001b[0m \u001b[1m24s\u001b[0m 40ms/step - accuracy: 0.8647 - loss: 0.4476 - val_accuracy: 0.9229 - val_loss: 0.2816\n",
      "Time Elapsed: 291.337305 seconds\n",
      "Test loss: 0.2816123366355896\n",
      "Test accuracy: 0.9228571653366089\n",
      "Time Elapsed: 0.555197 seconds\n",
      "Train loss: 0.29720398783683777\n",
      "Train accuracy: 0.9171693325042725\n",
      "Time Elapsed: 8.871337 seconds\n",
      "\n",
      "Training on Split #9\n",
      "\n",
      "75600 train samples\n",
      "4200 test samples\n",
      "Epoch 1/12\n",
      "\u001b[1m591/591\u001b[0m \u001b[32m━━━━━━━━━━━━━━━━━━━━\u001b[0m\u001b[37m\u001b[0m \u001b[1m24s\u001b[0m 41ms/step - accuracy: 0.8655 - loss: 0.4472 - val_accuracy: 0.9210 - val_loss: 0.2877\n",
      "Epoch 2/12\n",
      "\u001b[1m591/591\u001b[0m \u001b[32m━━━━━━━━━━━━━━━━━━━━\u001b[0m\u001b[37m\u001b[0m \u001b[1m41s\u001b[0m 40ms/step - accuracy: 0.8662 - loss: 0.4437 - val_accuracy: 0.9214 - val_loss: 0.2864\n",
      "Epoch 3/12\n",
      "\u001b[1m591/591\u001b[0m \u001b[32m━━━━━━━━━━━━━━━━━━━━\u001b[0m\u001b[37m\u001b[0m \u001b[1m43s\u001b[0m 44ms/step - accuracy: 0.8684 - loss: 0.4405 - val_accuracy: 0.9219 - val_loss: 0.2851\n",
      "Epoch 4/12\n",
      "\u001b[1m591/591\u001b[0m \u001b[32m━━━━━━━━━━━━━━━━━━━━\u001b[0m\u001b[37m\u001b[0m \u001b[1m24s\u001b[0m 41ms/step - accuracy: 0.8701 - loss: 0.4371 - val_accuracy: 0.9221 - val_loss: 0.2840\n",
      "Epoch 5/12\n",
      "\u001b[1m591/591\u001b[0m \u001b[32m━━━━━━━━━━━━━━━━━━━━\u001b[0m\u001b[37m\u001b[0m \u001b[1m24s\u001b[0m 41ms/step - accuracy: 0.8673 - loss: 0.4397 - val_accuracy: 0.9219 - val_loss: 0.2826\n",
      "Epoch 6/12\n",
      "\u001b[1m591/591\u001b[0m \u001b[32m━━━━━━━━━━━━━━━━━━━━\u001b[0m\u001b[37m\u001b[0m \u001b[1m25s\u001b[0m 41ms/step - accuracy: 0.8694 - loss: 0.4344 - val_accuracy: 0.9219 - val_loss: 0.2814\n",
      "Epoch 7/12\n",
      "\u001b[1m591/591\u001b[0m \u001b[32m━━━━━━━━━━━━━━━━━━━━\u001b[0m\u001b[37m\u001b[0m \u001b[1m24s\u001b[0m 41ms/step - accuracy: 0.8714 - loss: 0.4353 - val_accuracy: 0.9221 - val_loss: 0.2801\n",
      "Epoch 8/12\n",
      "\u001b[1m591/591\u001b[0m \u001b[32m━━━━━━━━━━━━━━━━━━━━\u001b[0m\u001b[37m\u001b[0m \u001b[1m42s\u001b[0m 43ms/step - accuracy: 0.8719 - loss: 0.4291 - val_accuracy: 0.9224 - val_loss: 0.2788\n",
      "Epoch 9/12\n",
      "\u001b[1m591/591\u001b[0m \u001b[32m━━━━━━━━━━━━━━━━━━━━\u001b[0m\u001b[37m\u001b[0m \u001b[1m27s\u001b[0m 45ms/step - accuracy: 0.8712 - loss: 0.4272 - val_accuracy: 0.9229 - val_loss: 0.2774\n",
      "Epoch 10/12\n",
      "\u001b[1m591/591\u001b[0m \u001b[32m━━━━━━━━━━━━━━━━━━━━\u001b[0m\u001b[37m\u001b[0m \u001b[1m26s\u001b[0m 43ms/step - accuracy: 0.8740 - loss: 0.4268 - val_accuracy: 0.9231 - val_loss: 0.2762\n",
      "Epoch 11/12\n",
      "\u001b[1m591/591\u001b[0m \u001b[32m━━━━━━━━━━━━━━━━━━━━\u001b[0m\u001b[37m\u001b[0m \u001b[1m26s\u001b[0m 44ms/step - accuracy: 0.8730 - loss: 0.4259 - val_accuracy: 0.9233 - val_loss: 0.2752\n",
      "Epoch 12/12\n",
      "\u001b[1m591/591\u001b[0m \u001b[32m━━━━━━━━━━━━━━━━━━━━\u001b[0m\u001b[37m\u001b[0m \u001b[1m29s\u001b[0m 49ms/step - accuracy: 0.8738 - loss: 0.4204 - val_accuracy: 0.9231 - val_loss: 0.2740\n",
      "Time Elapsed: 367.066235 seconds\n",
      "Test loss: 0.2739906907081604\n",
      "Test accuracy: 0.9230952262878418\n",
      "Time Elapsed: 0.618747 seconds\n",
      "Train loss: 0.27965226769447327\n",
      "Train accuracy: 0.9212566018104553\n",
      "Time Elapsed: 9.188109 seconds\n"
     ]
    }
   ],
   "source": [
    "validation_scores = []\n",
    "test_scores = []\n",
    "\n",
    "split_num = 0\n",
    "for train_index, test_index in kf.split(trnImgs):\n",
    "    print(f\"\\nTraining on Split #{split_num}\\n\")\n",
    "    split_num += 1\n",
    "    \n",
    "    x_train, x_test = copy.deepcopy(trnImgs[train_index]), copy.deepcopy(trnImgs[test_index])\n",
    "    y_train, y_test = copy.deepcopy(labels[train_index]), copy.deepcopy(labels[test_index])\n",
    "\n",
    "    # add noise to expand dataset\n",
    "    x_train = np.vstack((x_train, x_train + np.random.normal(size=x_train.shape)))\n",
    "    y_train = np.hstack((y_train, y_train))\n",
    "\n",
    "    if K.image_data_format() == 'channels_first':\n",
    "        x_train = x_train.reshape(x_train.shape[0], 1, img_rows, img_cols)\n",
    "        x_test = x_test.reshape(x_test.shape[0], 1, img_rows, img_cols)\n",
    "    else:\n",
    "        x_train = x_train.reshape(x_train.shape[0], img_rows, img_cols, 1)\n",
    "        x_test = x_test.reshape(x_test.shape[0], img_rows, img_cols, 1)\n",
    "\n",
    "\n",
    "    x_train = x_train.astype('float32')\n",
    "    x_test = x_test.astype('float32')\n",
    "    x_train /= 255\n",
    "    x_test /= 255\n",
    "    \n",
    "    print(x_train.shape[0], 'train samples')\n",
    "    print(x_test.shape[0], 'test samples')\n",
    "\n",
    "    # convert class vectors to binary class matrices\n",
    "    y_train_one_hot = keras.utils.to_categorical(y_train, num_classes)\n",
    "    y_test_one_hot = keras.utils.to_categorical(y_test, num_classes)\n",
    "    \n",
    "    \n",
    "    # Training\n",
    "    start_time = datetime.now()\n",
    "\n",
    "    history = model.fit(x_train, y_train_one_hot,\n",
    "              batch_size=batch_size,\n",
    "              epochs=epochs,\n",
    "              verbose=1,\n",
    "              validation_data=(x_test, y_test_one_hot))\n",
    "\n",
    "    print(\"Time Elapsed: {} seconds\".format((datetime.now() - start_time).total_seconds()))\n",
    "\n",
    "    # Testing Score\n",
    "    start_time = datetime.now()\n",
    "    score = model.evaluate(x_test, y_test_one_hot, verbose=0)\n",
    "    test_scores.append(score)\n",
    "    print('Test loss:', score[0])\n",
    "    print('Test accuracy:', score[1])\n",
    "    print(\"Time Elapsed: {} seconds\".format((datetime.now() - start_time).total_seconds()))\n",
    "    \n",
    "    # Training Score\n",
    "    start_time = datetime.now()\n",
    "    score_train = model.evaluate(x_train, y_train_one_hot, verbose=0)\n",
    "    validation_scores.append(score_train)\n",
    "    print('Train loss:', score_train[0])\n",
    "    print('Train accuracy:', score_train[1])\n",
    "\n",
    "    print(\"Time Elapsed: {} seconds\".format((datetime.now() - start_time).total_seconds()))"
   ]
  },
  {
   "cell_type": "code",
   "execution_count": 14,
   "id": "3340bb88",
   "metadata": {},
   "outputs": [
    {
     "name": "stdout",
     "output_type": "stream",
     "text": [
      "[0.79017198 0.83690476 0.86314815 0.88089949 0.89214283 0.90092593\n",
      " 0.90843916 0.91313493 0.91716933 0.9212566 ]\n",
      "[0.80285716 0.83904761 0.85880953 0.87309521 0.89357144 0.89809525\n",
      " 0.90357143 0.91357142 0.92285717 0.92309523]\n",
      "Average Validation Accuracy: 0.8824193179607391\n",
      "Average Test Accuracy: 0.8828571438789368\n"
     ]
    }
   ],
   "source": [
    "validation_scores = np.array(validation_scores)\n",
    "test_scores = np.array(test_scores)\n",
    "\n",
    "val_loss, val_accuracy = validation_scores[:,0], validation_scores[:,1]\n",
    "test_loss, test_accuracy = test_scores[:,0], test_scores[:,1]\n",
    "\n",
    "print(val_accuracy)\n",
    "print(test_accuracy)\n",
    "\n",
    "print(f\"Average Validation Accuracy: {np.mean(val_accuracy)}\")\n",
    "print(f\"Average Test Accuracy: {np.mean(test_accuracy)}\")"
   ]
  },
  {
   "cell_type": "markdown",
   "id": "59c94f66",
   "metadata": {},
   "source": [
    "## Evaluate Model"
   ]
  },
  {
   "cell_type": "code",
   "execution_count": 15,
   "id": "f5bd9d9b",
   "metadata": {},
   "outputs": [
    {
     "name": "stdout",
     "output_type": "stream",
     "text": [
      "dict_keys(['accuracy', 'loss', 'val_accuracy', 'val_loss'])\n"
     ]
    },
    {
     "data": {
      "image/png": "[encoded data removed]",
      "text/plain": [
       "<Figure size 640x480 with 1 Axes>"
      ]
     },
     "metadata": {},
     "output_type": "display_data"
    },
    {
     "data": {
      "image/png": "[encoded data removed]",
      "text/plain": [
       "<Figure size 640x480 with 1 Axes>"
      ]
     },
     "metadata": {},
     "output_type": "display_data"
    }
   ],
   "source": [
    "# list all data in history\n",
    "print(history.history.keys())\n",
    "# summarize history for accuracy\n",
    "plt.plot(history.history['accuracy'])\n",
    "plt.plot(history.history['val_accuracy'])\n",
    "plt.title('model accuracy')\n",
    "plt.ylabel('accuracy')\n",
    "plt.xlabel('epoch')\n",
    "plt.legend(['train', 'test'], loc='upper left')\n",
    "plt.show()\n",
    "# summarize history for loss\n",
    "plt.plot(history.history['loss'])\n",
    "plt.plot(history.history['val_loss'])\n",
    "plt.title('model loss')\n",
    "plt.ylabel('loss')\n",
    "plt.xlabel('epoch')\n",
    "plt.legend(['train', 'test'], loc='upper left')\n",
    "plt.show()"
   ]
  },
  {
   "cell_type": "code",
   "execution_count": 16,
   "id": "349a9a6e",
   "metadata": {},
   "outputs": [
    {
     "name": "stdout",
     "output_type": "stream",
     "text": [
      "Model Accuracy: 0.9846190476190476\n"
     ]
    }
   ],
   "source": [
    "predictions = model.predict(x_test, verbose=0)\n",
    "yitest = np.argmax(y_test_one_hot, axis=1)\n",
    "\n",
    "normPred = []\n",
    "for row in predictions:\n",
    "    normPred.append(np.floor(row/np.max(row)))\n",
    "    \n",
    "normPred = np.array(normPred)\n",
    "\n",
    "print(f\"Model Accuracy: {np.count_nonzero(normPred == y_test_one_hot)/(normPred.flatten()).shape[0]}\")\n",
    "\n",
    "yptest = np.argmax(predictions, axis=1)\n",
    "# print (yitest)\n",
    "# print (yptest)\n",
    "\n",
    "cfm_k2 = confusion_matrix(yitest, yptest)"
   ]
  },
  {
   "cell_type": "markdown",
   "id": "9a0ec5e2",
   "metadata": {},
   "source": [
    "## Confusion Matrix"
   ]
  },
  {
   "cell_type": "code",
   "execution_count": 17,
   "id": "f7fd2940",
   "metadata": {},
   "outputs": [
    {
     "name": "stdout",
     "output_type": "stream",
     "text": [
      "Confusion matrix, without normalization\n"
     ]
    },
    {
     "data": {
      "image/png": "[encoded data removed]",
      "text/plain": [
       "<Figure size 640x480 with 2 Axes>"
      ]
     },
     "metadata": {},
     "output_type": "display_data"
    }
   ],
   "source": [
    "plot_confusion_matrix(cfm_k2, classes=range(10), \n",
    "                      title='Confusion matrix for Digit Recognizer')"
   ]
  }
 ],
 "metadata": {
  "kernelspec": {
   "display_name": "Python 3 (ipykernel)",
   "language": "python",
   "name": "python3"
  },
  "language_info": {
   "codemirror_mode": {
    "name": "ipython",
    "version": 3
   },
   "file_extension": ".py",
   "mimetype": "text/x-python",
   "name": "python",
   "nbconvert_exporter": "python",
   "pygments_lexer": "ipython3",
   "version": "3.11.5"
  }
 },
 "nbformat": 4,
 "nbformat_minor": 5
}
