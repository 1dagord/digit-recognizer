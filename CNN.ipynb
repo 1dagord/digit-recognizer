{
 "cells": [
  {
   "cell_type": "code",
   "execution_count": 2,
   "id": "df7eb1b3",
   "metadata": {},
   "outputs": [],
   "source": [
    "import numpy as np\n",
    "import pandas as pd\n",
    "from matplotlib import pyplot as plt\n",
    "from sklearn.model_selection import train_test_split\n",
    "import torch\n",
    "import torch.nn as nn\n",
    "from datetime import datetime\n",
    "from sklearn.metrics import confusion_matrix\n",
    "import itertools\n",
    "import copy\n",
    "\n",
    "import keras\n",
    "from keras.models import Sequential\n",
    "from keras.layers import Dense, Dropout, Flatten\n",
    "from keras.layers import Conv2D, MaxPooling2D\n",
    "from keras.initializers import GlorotNormal\n",
    "from keras import backend as K\n",
    "\n",
    "from sklearn.model_selection import KFold \n",
    "\n",
    "from collections import Counter"
   ]
  },
  {
   "cell_type": "code",
   "execution_count": 3,
   "id": "cbbace51",
   "metadata": {},
   "outputs": [],
   "source": [
    "# Hyperparameters\n",
    "epochs = 12\n",
    "num_classes = 10\n",
    "batch_size = 128\n",
    "learning_rate = 0.0001\n",
    "\n",
    "kf = KFold(n_splits=10)\n",
    "initializer = GlorotNormal()\n",
    "\n",
    "# Device configuration\n",
    "device = torch.device('cuda:0' if torch.cuda.is_available() else 'cpu')"
   ]
  },
  {
   "cell_type": "code",
   "execution_count": 4,
   "id": "30e8d72c",
   "metadata": {},
   "outputs": [],
   "source": [
    "\"\"\"\n",
    "Data obtained from https://www.kaggle.com/competitions/digit-recognizer/data?select=train.csv\n",
    "\"\"\"\n",
    "\n",
    "trnData = pd.read_csv('kaggle/input/digit-recognizer/train.csv')\n",
    "tstData = pd.read_csv('kaggle/input/digit-recognizer/test.csv')"
   ]
  },
  {
   "cell_type": "code",
   "execution_count": 5,
   "id": "9b79cc73",
   "metadata": {},
   "outputs": [
    {
     "name": "stdout",
     "output_type": "stream",
     "text": [
      "Counter({1: 4684, 7: 4401, 3: 4351, 9: 4188, 2: 4177, 6: 4137, 0: 4132, 4: 4072, 8: 4063, 5: 3795})\n"
     ]
    }
   ],
   "source": [
    "print(Counter(trnData[\"label\"]))"
   ]
  },
  {
   "cell_type": "markdown",
   "id": "11789a02",
   "metadata": {},
   "source": [
    "## Get Training Data"
   ]
  },
  {
   "cell_type": "code",
   "execution_count": 6,
   "id": "78763928",
   "metadata": {},
   "outputs": [
    {
     "name": "stdout",
     "output_type": "stream",
     "text": [
      "<class 'pandas.core.frame.DataFrame'>\n",
      "RangeIndex: 42000 entries, 0 to 41999\n",
      "Columns: 785 entries, label to pixel783\n",
      "dtypes: int64(785)\n",
      "memory usage: 251.5 MB\n",
      "Training Data Shape: (42000, 784)\n",
      "Labels Shape: (42000,)\n"
     ]
    }
   ],
   "source": [
    "trnData.info()\n",
    "labels = trnData[\"label\"]\n",
    "trnImgs = []\n",
    "\n",
    "for i in range(trnData.shape[0]):\n",
    "    trnImgs.append(trnData.loc[i][1:])\n",
    "\n",
    "trnImgs = np.array(trnImgs)\n",
    "print(\"Training Data Shape:\", trnImgs.shape)\n",
    "print(\"Labels Shape:\", labels.shape)"
   ]
  },
  {
   "cell_type": "markdown",
   "id": "02f61737",
   "metadata": {},
   "source": [
    "## Get Testing Data"
   ]
  },
  {
   "cell_type": "code",
   "execution_count": 7,
   "id": "5a19bb03",
   "metadata": {},
   "outputs": [
    {
     "name": "stdout",
     "output_type": "stream",
     "text": [
      "<class 'pandas.core.frame.DataFrame'>\n",
      "RangeIndex: 28000 entries, 0 to 27999\n",
      "Columns: 784 entries, pixel0 to pixel783\n",
      "dtypes: int64(784)\n",
      "memory usage: 167.5 MB\n",
      "Testing Data Shape: (28000, 784)\n"
     ]
    }
   ],
   "source": [
    "tstData.info()\n",
    "tstImgs = []\n",
    "\n",
    "for i in range(tstData.shape[0]):\n",
    "    tstImgs.append(tstData.loc[i])\n",
    "    \n",
    "tstImgs = np.array(tstImgs)\n",
    "print(\"Testing Data Shape:\", tstImgs.shape)"
   ]
  },
  {
   "cell_type": "code",
   "execution_count": 8,
   "id": "07386cfb",
   "metadata": {},
   "outputs": [
    {
     "name": "stdout",
     "output_type": "stream",
     "text": [
      "(42000, 784)\n",
      "(28000, 784)\n",
      "(42000,)\n"
     ]
    }
   ],
   "source": [
    "# imgs[image number][pixel number]\n",
    "print(trnImgs[:,:].shape)\n",
    "print(tstImgs[:,:].shape)\n",
    "print(labels.shape)"
   ]
  },
  {
   "cell_type": "code",
   "execution_count": 9,
   "id": "01b1b8ed",
   "metadata": {},
   "outputs": [],
   "source": [
    "def to_categorical(y, num_classes=None):\n",
    "    \"\"\"Converts a class vector (integers) to binary class matrix.\n",
    "\n",
    "    E.g. for use with categorical_crossentropy.\n",
    "\n",
    "    # Arguments\n",
    "        y: class vector to be converted into a matrix\n",
    "            (integers from 0 to num_classes).\n",
    "        num_classes: total number of classes.\n",
    "\n",
    "    # Returns\n",
    "        A binary matrix representation of the input. The classes axis\n",
    "        is placed last.\n",
    "    \"\"\"\n",
    "    y = np.array(y, dtype='int')\n",
    "    input_shape = y.shape\n",
    "    if input_shape and input_shape[-1] == 1 and len(input_shape) > 1:\n",
    "        input_shape = tuple(input_shape[:-1])\n",
    "    y = y.ravel()\n",
    "    if not num_classes:\n",
    "        num_classes = np.max(y) + 1\n",
    "    n = y.shape[0]\n",
    "    categorical = np.zeros((n, num_classes), dtype=np.float32)\n",
    "    categorical[np.arange(n), y] = 1\n",
    "    output_shape = input_shape + (num_classes,)\n",
    "    categorical = np.reshape(categorical, output_shape)\n",
    "    return categorical"
   ]
  },
  {
   "cell_type": "code",
   "execution_count": 10,
   "id": "84203a1c",
   "metadata": {},
   "outputs": [],
   "source": [
    "def plot_confusion_matrix(cm, classes,\n",
    "                          normalize=False,\n",
    "                          title='Confusion matrix',\n",
    "                          cmap=plt.cm.Blues):\n",
    "    \"\"\"\n",
    "        This function prints and plots the confusion matrix.\n",
    "        Normalization can be applied by setting `normalize=True`.\n",
    "    \"\"\"\n",
    "    if normalize:\n",
    "        cm = cm.astype('float') / cm.sum(axis=1)[:, np.newaxis]\n",
    "        print(\"Normalized confusion matrix\")\n",
    "    else:\n",
    "        print('Confusion matrix, without normalization')\n",
    "\n",
    "    plt.imshow(cm, interpolation='nearest', cmap=cmap)\n",
    "    plt.title(title)\n",
    "    plt.colorbar()\n",
    "    tick_marks = np.arange(len(classes))\n",
    "    plt.xticks(tick_marks, classes, rotation=45)\n",
    "    plt.yticks(tick_marks, classes)\n",
    "\n",
    "    fmt = '.2f' if normalize else 'd'\n",
    "    thresh = cm.max() / 2.\n",
    "    for i, j in itertools.product(range(cm.shape[0]), range(cm.shape[1])):\n",
    "        plt.text(j, i, format(cm[i, j], fmt),\n",
    "                 horizontalalignment=\"center\",\n",
    "                 color=\"white\" if cm[i, j] > thresh else \"black\")\n",
    "\n",
    "    plt.ylabel('True label')\n",
    "    plt.xlabel('Predicted label')\n",
    "    plt.tight_layout()"
   ]
  },
  {
   "cell_type": "code",
   "execution_count": 11,
   "id": "aed61f70",
   "metadata": {},
   "outputs": [],
   "source": [
    "# input image dimensions\n",
    "img_rows, img_cols = 28, 28\n",
    "\n",
    "input_shape = (1, img_rows, img_cols) if K.image_data_format() == 'channels_first' else (img_rows, img_cols, 1)"
   ]
  },
  {
   "cell_type": "markdown",
   "id": "5ddf1861",
   "metadata": {},
   "source": [
    "## Define model"
   ]
  },
  {
   "cell_type": "code",
   "execution_count": 13,
   "id": "b6bc2457",
   "metadata": {},
   "outputs": [],
   "source": [
    "model = Sequential()\n",
    "model.add(Conv2D(16, kernel_size=(5, 5),\n",
    "                 activation='relu',\n",
    "                 input_shape=input_shape))\n",
    "model.add(MaxPooling2D(pool_size=(2, 2)))\n",
    "model.add(Dropout(0.25))\n",
    "model.add(Flatten())\n",
    "model.add(Dense(128, kernel_initializer=initializer, activation='relu'))\n",
    "model.add(Dropout(0.5))\n",
    "model.add(Dense(num_classes, kernel_initializer=initializer, activation='softmax'))\n",
    "\n",
    "model.compile(loss=keras.losses.categorical_crossentropy,\n",
    "              optimizer=keras.optimizers.Adadelta(),\n",
    "              metrics=['accuracy'])"
   ]
  },
  {
   "cell_type": "code",
   "execution_count": 14,
   "id": "a33ec8c4",
   "metadata": {},
   "outputs": [
    {
     "data": {
      "text/html": [
       "<pre style=\"white-space:pre;overflow-x:auto;line-height:normal;font-family:Menlo,'DejaVu Sans Mono',consolas,'Courier New',monospace\"><span style=\"font-weight: bold\">Model: \"sequential_1\"</span>\n",
       "</pre>\n"
      ],
      "text/plain": [
       "\u001b[1mModel: \"sequential_1\"\u001b[0m\n"
      ]
     },
     "metadata": {},
     "output_type": "display_data"
    },
    {
     "data": {
      "text/html": [
       "<pre style=\"white-space:pre;overflow-x:auto;line-height:normal;font-family:Menlo,'DejaVu Sans Mono',consolas,'Courier New',monospace\">┏━━━━━━━━━━━━━━━━━━━━━━━━━━━━━━━━━┳━━━━━━━━━━━━━━━━━━━━━━━━┳━━━━━━━━━━━━━━━┓\n",
       "┃<span style=\"font-weight: bold\"> Layer (type)                    </span>┃<span style=\"font-weight: bold\"> Output Shape           </span>┃<span style=\"font-weight: bold\">       Param # </span>┃\n",
       "┡━━━━━━━━━━━━━━━━━━━━━━━━━━━━━━━━━╇━━━━━━━━━━━━━━━━━━━━━━━━╇━━━━━━━━━━━━━━━┩\n",
       "│ conv2d_1 (<span style=\"color: #0087ff; text-decoration-color: #0087ff\">Conv2D</span>)               │ (<span style=\"color: #00d7ff; text-decoration-color: #00d7ff\">None</span>, <span style=\"color: #00af00; text-decoration-color: #00af00\">24</span>, <span style=\"color: #00af00; text-decoration-color: #00af00\">24</span>, <span style=\"color: #00af00; text-decoration-color: #00af00\">16</span>)     │           <span style=\"color: #00af00; text-decoration-color: #00af00\">416</span> │\n",
       "├─────────────────────────────────┼────────────────────────┼───────────────┤\n",
       "│ max_pooling2d_1 (<span style=\"color: #0087ff; text-decoration-color: #0087ff\">MaxPooling2D</span>)  │ (<span style=\"color: #00d7ff; text-decoration-color: #00d7ff\">None</span>, <span style=\"color: #00af00; text-decoration-color: #00af00\">12</span>, <span style=\"color: #00af00; text-decoration-color: #00af00\">12</span>, <span style=\"color: #00af00; text-decoration-color: #00af00\">16</span>)     │             <span style=\"color: #00af00; text-decoration-color: #00af00\">0</span> │\n",
       "├─────────────────────────────────┼────────────────────────┼───────────────┤\n",
       "│ dropout_2 (<span style=\"color: #0087ff; text-decoration-color: #0087ff\">Dropout</span>)             │ (<span style=\"color: #00d7ff; text-decoration-color: #00d7ff\">None</span>, <span style=\"color: #00af00; text-decoration-color: #00af00\">12</span>, <span style=\"color: #00af00; text-decoration-color: #00af00\">12</span>, <span style=\"color: #00af00; text-decoration-color: #00af00\">16</span>)     │             <span style=\"color: #00af00; text-decoration-color: #00af00\">0</span> │\n",
       "├─────────────────────────────────┼────────────────────────┼───────────────┤\n",
       "│ flatten_1 (<span style=\"color: #0087ff; text-decoration-color: #0087ff\">Flatten</span>)             │ (<span style=\"color: #00d7ff; text-decoration-color: #00d7ff\">None</span>, <span style=\"color: #00af00; text-decoration-color: #00af00\">2304</span>)           │             <span style=\"color: #00af00; text-decoration-color: #00af00\">0</span> │\n",
       "├─────────────────────────────────┼────────────────────────┼───────────────┤\n",
       "│ dense_2 (<span style=\"color: #0087ff; text-decoration-color: #0087ff\">Dense</span>)                 │ (<span style=\"color: #00d7ff; text-decoration-color: #00d7ff\">None</span>, <span style=\"color: #00af00; text-decoration-color: #00af00\">128</span>)            │       <span style=\"color: #00af00; text-decoration-color: #00af00\">295,040</span> │\n",
       "├─────────────────────────────────┼────────────────────────┼───────────────┤\n",
       "│ dropout_3 (<span style=\"color: #0087ff; text-decoration-color: #0087ff\">Dropout</span>)             │ (<span style=\"color: #00d7ff; text-decoration-color: #00d7ff\">None</span>, <span style=\"color: #00af00; text-decoration-color: #00af00\">128</span>)            │             <span style=\"color: #00af00; text-decoration-color: #00af00\">0</span> │\n",
       "├─────────────────────────────────┼────────────────────────┼───────────────┤\n",
       "│ dense_3 (<span style=\"color: #0087ff; text-decoration-color: #0087ff\">Dense</span>)                 │ (<span style=\"color: #00d7ff; text-decoration-color: #00d7ff\">None</span>, <span style=\"color: #00af00; text-decoration-color: #00af00\">10</span>)             │         <span style=\"color: #00af00; text-decoration-color: #00af00\">1,290</span> │\n",
       "└─────────────────────────────────┴────────────────────────┴───────────────┘\n",
       "</pre>\n"
      ],
      "text/plain": [
       "┏━━━━━━━━━━━━━━━━━━━━━━━━━━━━━━━━━┳━━━━━━━━━━━━━━━━━━━━━━━━┳━━━━━━━━━━━━━━━┓\n",
       "┃\u001b[1m \u001b[0m\u001b[1mLayer (type)                   \u001b[0m\u001b[1m \u001b[0m┃\u001b[1m \u001b[0m\u001b[1mOutput Shape          \u001b[0m\u001b[1m \u001b[0m┃\u001b[1m \u001b[0m\u001b[1m      Param #\u001b[0m\u001b[1m \u001b[0m┃\n",
       "┡━━━━━━━━━━━━━━━━━━━━━━━━━━━━━━━━━╇━━━━━━━━━━━━━━━━━━━━━━━━╇━━━━━━━━━━━━━━━┩\n",
       "│ conv2d_1 (\u001b[38;5;33mConv2D\u001b[0m)               │ (\u001b[38;5;45mNone\u001b[0m, \u001b[38;5;34m24\u001b[0m, \u001b[38;5;34m24\u001b[0m, \u001b[38;5;34m16\u001b[0m)     │           \u001b[38;5;34m416\u001b[0m │\n",
       "├─────────────────────────────────┼────────────────────────┼───────────────┤\n",
       "│ max_pooling2d_1 (\u001b[38;5;33mMaxPooling2D\u001b[0m)  │ (\u001b[38;5;45mNone\u001b[0m, \u001b[38;5;34m12\u001b[0m, \u001b[38;5;34m12\u001b[0m, \u001b[38;5;34m16\u001b[0m)     │             \u001b[38;5;34m0\u001b[0m │\n",
       "├─────────────────────────────────┼────────────────────────┼───────────────┤\n",
       "│ dropout_2 (\u001b[38;5;33mDropout\u001b[0m)             │ (\u001b[38;5;45mNone\u001b[0m, \u001b[38;5;34m12\u001b[0m, \u001b[38;5;34m12\u001b[0m, \u001b[38;5;34m16\u001b[0m)     │             \u001b[38;5;34m0\u001b[0m │\n",
       "├─────────────────────────────────┼────────────────────────┼───────────────┤\n",
       "│ flatten_1 (\u001b[38;5;33mFlatten\u001b[0m)             │ (\u001b[38;5;45mNone\u001b[0m, \u001b[38;5;34m2304\u001b[0m)           │             \u001b[38;5;34m0\u001b[0m │\n",
       "├─────────────────────────────────┼────────────────────────┼───────────────┤\n",
       "│ dense_2 (\u001b[38;5;33mDense\u001b[0m)                 │ (\u001b[38;5;45mNone\u001b[0m, \u001b[38;5;34m128\u001b[0m)            │       \u001b[38;5;34m295,040\u001b[0m │\n",
       "├─────────────────────────────────┼────────────────────────┼───────────────┤\n",
       "│ dropout_3 (\u001b[38;5;33mDropout\u001b[0m)             │ (\u001b[38;5;45mNone\u001b[0m, \u001b[38;5;34m128\u001b[0m)            │             \u001b[38;5;34m0\u001b[0m │\n",
       "├─────────────────────────────────┼────────────────────────┼───────────────┤\n",
       "│ dense_3 (\u001b[38;5;33mDense\u001b[0m)                 │ (\u001b[38;5;45mNone\u001b[0m, \u001b[38;5;34m10\u001b[0m)             │         \u001b[38;5;34m1,290\u001b[0m │\n",
       "└─────────────────────────────────┴────────────────────────┴───────────────┘\n"
      ]
     },
     "metadata": {},
     "output_type": "display_data"
    },
    {
     "data": {
      "text/html": [
       "<pre style=\"white-space:pre;overflow-x:auto;line-height:normal;font-family:Menlo,'DejaVu Sans Mono',consolas,'Courier New',monospace\"><span style=\"font-weight: bold\"> Total params: </span><span style=\"color: #00af00; text-decoration-color: #00af00\">296,746</span> (1.13 MB)\n",
       "</pre>\n"
      ],
      "text/plain": [
       "\u001b[1m Total params: \u001b[0m\u001b[38;5;34m296,746\u001b[0m (1.13 MB)\n"
      ]
     },
     "metadata": {},
     "output_type": "display_data"
    },
    {
     "data": {
      "text/html": [
       "<pre style=\"white-space:pre;overflow-x:auto;line-height:normal;font-family:Menlo,'DejaVu Sans Mono',consolas,'Courier New',monospace\"><span style=\"font-weight: bold\"> Trainable params: </span><span style=\"color: #00af00; text-decoration-color: #00af00\">296,746</span> (1.13 MB)\n",
       "</pre>\n"
      ],
      "text/plain": [
       "\u001b[1m Trainable params: \u001b[0m\u001b[38;5;34m296,746\u001b[0m (1.13 MB)\n"
      ]
     },
     "metadata": {},
     "output_type": "display_data"
    },
    {
     "data": {
      "text/html": [
       "<pre style=\"white-space:pre;overflow-x:auto;line-height:normal;font-family:Menlo,'DejaVu Sans Mono',consolas,'Courier New',monospace\"><span style=\"font-weight: bold\"> Non-trainable params: </span><span style=\"color: #00af00; text-decoration-color: #00af00\">0</span> (0.00 B)\n",
       "</pre>\n"
      ],
      "text/plain": [
       "\u001b[1m Non-trainable params: \u001b[0m\u001b[38;5;34m0\u001b[0m (0.00 B)\n"
      ]
     },
     "metadata": {},
     "output_type": "display_data"
    }
   ],
   "source": [
    "model.summary()"
   ]
  },
  {
   "cell_type": "markdown",
   "id": "246b9cf5",
   "metadata": {},
   "source": [
    "## Train Model with K-Fold Cross Validation"
   ]
  },
  {
   "cell_type": "code",
   "execution_count": 15,
   "id": "a02754b6",
   "metadata": {},
   "outputs": [
    {
     "name": "stdout",
     "output_type": "stream",
     "text": [
      "\n",
      "Training on Split #0\n",
      "\n",
      "75600 train samples\n",
      "4200 test samples\n",
      "Epoch 1/12\n",
      "\u001b[1m591/591\u001b[0m \u001b[32m━━━━━━━━━━━━━━━━━━━━\u001b[0m\u001b[37m\u001b[0m \u001b[1m31s\u001b[0m 49ms/step - accuracy: 0.1024 - loss: 2.3349 - val_accuracy: 0.1960 - val_loss: 2.2472\n",
      "Epoch 2/12\n",
      "\u001b[1m591/591\u001b[0m \u001b[32m━━━━━━━━━━━━━━━━━━━━\u001b[0m\u001b[37m\u001b[0m \u001b[1m27s\u001b[0m 46ms/step - accuracy: 0.1498 - loss: 2.2645 - val_accuracy: 0.3274 - val_loss: 2.1776\n",
      "Epoch 3/12\n",
      "\u001b[1m591/591\u001b[0m \u001b[32m━━━━━━━━━━━━━━━━━━━━\u001b[0m\u001b[37m\u001b[0m \u001b[1m24s\u001b[0m 40ms/step - accuracy: 0.1991 - loss: 2.2015 - val_accuracy: 0.4495 - val_loss: 2.1072\n",
      "Epoch 4/12\n",
      "\u001b[1m591/591\u001b[0m \u001b[32m━━━━━━━━━━━━━━━━━━━━\u001b[0m\u001b[37m\u001b[0m \u001b[1m24s\u001b[0m 41ms/step - accuracy: 0.2579 - loss: 2.1385 - val_accuracy: 0.5505 - val_loss: 2.0332\n",
      "Epoch 5/12\n",
      "\u001b[1m591/591\u001b[0m \u001b[32m━━━━━━━━━━━━━━━━━━━━\u001b[0m\u001b[37m\u001b[0m \u001b[1m24s\u001b[0m 41ms/step - accuracy: 0.3158 - loss: 2.0709 - val_accuracy: 0.6483 - val_loss: 1.9562\n",
      "Epoch 6/12\n",
      "\u001b[1m591/591\u001b[0m \u001b[32m━━━━━━━━━━━━━━━━━━━━\u001b[0m\u001b[37m\u001b[0m \u001b[1m23s\u001b[0m 40ms/step - accuracy: 0.3648 - loss: 2.0077 - val_accuracy: 0.6840 - val_loss: 1.8763\n",
      "Epoch 7/12\n",
      "\u001b[1m591/591\u001b[0m \u001b[32m━━━━━━━━━━━━━━━━━━━━\u001b[0m\u001b[37m\u001b[0m \u001b[1m24s\u001b[0m 40ms/step - accuracy: 0.4112 - loss: 1.9351 - val_accuracy: 0.7048 - val_loss: 1.7945\n",
      "Epoch 8/12\n",
      "\u001b[1m591/591\u001b[0m \u001b[32m━━━━━━━━━━━━━━━━━━━━\u001b[0m\u001b[37m\u001b[0m \u001b[1m25s\u001b[0m 42ms/step - accuracy: 0.4498 - loss: 1.8644 - val_accuracy: 0.7207 - val_loss: 1.7111\n",
      "Epoch 9/12\n",
      "\u001b[1m591/591\u001b[0m \u001b[32m━━━━━━━━━━━━━━━━━━━━\u001b[0m\u001b[37m\u001b[0m \u001b[1m25s\u001b[0m 43ms/step - accuracy: 0.4811 - loss: 1.7935 - val_accuracy: 0.7348 - val_loss: 1.6274\n",
      "Epoch 10/12\n",
      "\u001b[1m591/591\u001b[0m \u001b[32m━━━━━━━━━━━━━━━━━━━━\u001b[0m\u001b[37m\u001b[0m \u001b[1m24s\u001b[0m 40ms/step - accuracy: 0.5008 - loss: 1.7279 - val_accuracy: 0.7471 - val_loss: 1.5446\n",
      "Epoch 11/12\n",
      "\u001b[1m591/591\u001b[0m \u001b[32m━━━━━━━━━━━━━━━━━━━━\u001b[0m\u001b[37m\u001b[0m \u001b[1m25s\u001b[0m 41ms/step - accuracy: 0.5330 - loss: 1.6502 - val_accuracy: 0.7612 - val_loss: 1.4633\n",
      "Epoch 12/12\n",
      "\u001b[1m591/591\u001b[0m \u001b[32m━━━━━━━━━━━━━━━━━━━━\u001b[0m\u001b[37m\u001b[0m \u001b[1m25s\u001b[0m 42ms/step - accuracy: 0.5516 - loss: 1.5869 - val_accuracy: 0.7707 - val_loss: 1.3853\n",
      "Time Elapsed: 301.94225 seconds\n",
      "Test loss: 1.385345458984375\n",
      "Test accuracy: 0.770714282989502\n",
      "Time Elapsed: 0.5169 seconds\n",
      "Train loss: 1.3935154676437378\n",
      "Train accuracy: 0.7655290961265564\n",
      "Time Elapsed: 8.353317 seconds\n",
      "\n",
      "Training on Split #1\n",
      "\n",
      "75600 train samples\n",
      "4200 test samples\n",
      "Epoch 1/12\n",
      "\u001b[1m591/591\u001b[0m \u001b[32m━━━━━━━━━━━━━━━━━━━━\u001b[0m\u001b[37m\u001b[0m \u001b[1m24s\u001b[0m 40ms/step - accuracy: 0.5722 - loss: 1.5180 - val_accuracy: 0.7783 - val_loss: 1.3149\n",
      "Epoch 2/12\n",
      "\u001b[1m591/591\u001b[0m \u001b[32m━━━━━━━━━━━━━━━━━━━━\u001b[0m\u001b[37m\u001b[0m \u001b[1m24s\u001b[0m 41ms/step - accuracy: 0.5868 - loss: 1.4610 - val_accuracy: 0.7840 - val_loss: 1.2452\n",
      "Epoch 3/12\n",
      "\u001b[1m591/591\u001b[0m \u001b[32m━━━━━━━━━━━━━━━━━━━━\u001b[0m\u001b[37m\u001b[0m \u001b[1m25s\u001b[0m 42ms/step - accuracy: 0.6062 - loss: 1.4005 - val_accuracy: 0.7902 - val_loss: 1.1795\n",
      "Epoch 4/12\n",
      "\u001b[1m591/591\u001b[0m \u001b[32m━━━━━━━━━━━━━━━━━━━━\u001b[0m\u001b[37m\u001b[0m \u001b[1m25s\u001b[0m 43ms/step - accuracy: 0.6169 - loss: 1.3451 - val_accuracy: 0.7981 - val_loss: 1.1184\n",
      "Epoch 5/12\n",
      "\u001b[1m591/591\u001b[0m \u001b[32m━━━━━━━━━━━━━━━━━━━━\u001b[0m\u001b[37m\u001b[0m \u001b[1m25s\u001b[0m 43ms/step - accuracy: 0.6311 - loss: 1.2927 - val_accuracy: 0.8052 - val_loss: 1.0608\n",
      "Epoch 6/12\n",
      "\u001b[1m591/591\u001b[0m \u001b[32m━━━━━━━━━━━━━━━━━━━━\u001b[0m\u001b[37m\u001b[0m \u001b[1m25s\u001b[0m 42ms/step - accuracy: 0.6385 - loss: 1.2478 - val_accuracy: 0.8114 - val_loss: 1.0076\n",
      "Epoch 7/12\n",
      "\u001b[1m591/591\u001b[0m \u001b[32m━━━━━━━━━━━━━━━━━━━━\u001b[0m\u001b[37m\u001b[0m \u001b[1m25s\u001b[0m 42ms/step - accuracy: 0.6534 - loss: 1.2054 - val_accuracy: 0.8157 - val_loss: 0.9587\n",
      "Epoch 8/12\n",
      "\u001b[1m591/591\u001b[0m \u001b[32m━━━━━━━━━━━━━━━━━━━━\u001b[0m\u001b[37m\u001b[0m \u001b[1m26s\u001b[0m 44ms/step - accuracy: 0.6649 - loss: 1.1562 - val_accuracy: 0.8198 - val_loss: 0.9141\n",
      "Epoch 9/12\n",
      "\u001b[1m591/591\u001b[0m \u001b[32m━━━━━━━━━━━━━━━━━━━━\u001b[0m\u001b[37m\u001b[0m \u001b[1m25s\u001b[0m 42ms/step - accuracy: 0.6724 - loss: 1.1258 - val_accuracy: 0.8243 - val_loss: 0.8741\n",
      "Epoch 10/12\n",
      "\u001b[1m591/591\u001b[0m \u001b[32m━━━━━━━━━━━━━━━━━━━━\u001b[0m\u001b[37m\u001b[0m \u001b[1m27s\u001b[0m 45ms/step - accuracy: 0.6843 - loss: 1.0848 - val_accuracy: 0.8274 - val_loss: 0.8374\n",
      "Epoch 11/12\n",
      "\u001b[1m591/591\u001b[0m \u001b[32m━━━━━━━━━━━━━━━━━━━━\u001b[0m\u001b[37m\u001b[0m \u001b[1m26s\u001b[0m 43ms/step - accuracy: 0.6920 - loss: 1.0566 - val_accuracy: 0.8312 - val_loss: 0.8041\n",
      "Epoch 12/12\n",
      "\u001b[1m591/591\u001b[0m \u001b[32m━━━━━━━━━━━━━━━━━━━━\u001b[0m\u001b[37m\u001b[0m \u001b[1m28s\u001b[0m 47ms/step - accuracy: 0.6991 - loss: 1.0249 - val_accuracy: 0.8350 - val_loss: 0.7738\n",
      "Time Elapsed: 305.243554 seconds\n",
      "Test loss: 0.7738361954689026\n",
      "Test accuracy: 0.8349999785423279\n",
      "Time Elapsed: 0.544227 seconds\n",
      "Train loss: 0.7812513709068298\n",
      "Train accuracy: 0.8327116370201111\n",
      "Time Elapsed: 8.529951 seconds\n",
      "\n",
      "Training on Split #2\n",
      "\n",
      "75600 train samples\n",
      "4200 test samples\n",
      "Epoch 1/12\n",
      "\u001b[1m591/591\u001b[0m \u001b[32m━━━━━━━━━━━━━━━━━━━━\u001b[0m\u001b[37m\u001b[0m \u001b[1m25s\u001b[0m 42ms/step - accuracy: 0.7062 - loss: 0.9921 - val_accuracy: 0.8300 - val_loss: 0.7575\n",
      "Epoch 2/12\n",
      "\u001b[1m591/591\u001b[0m \u001b[32m━━━━━━━━━━━━━━━━━━━━\u001b[0m\u001b[37m\u001b[0m \u001b[1m25s\u001b[0m 42ms/step - accuracy: 0.7133 - loss: 0.9697 - val_accuracy: 0.8345 - val_loss: 0.7324\n",
      "Epoch 3/12\n",
      "\u001b[1m591/591\u001b[0m \u001b[32m━━━━━━━━━━━━━━━━━━━━\u001b[0m\u001b[37m\u001b[0m \u001b[1m25s\u001b[0m 43ms/step - accuracy: 0.7195 - loss: 0.9406 - val_accuracy: 0.8388 - val_loss: 0.7093\n",
      "Epoch 4/12\n",
      "\u001b[1m591/591\u001b[0m \u001b[32m━━━━━━━━━━━━━━━━━━━━\u001b[0m\u001b[37m\u001b[0m \u001b[1m26s\u001b[0m 44ms/step - accuracy: 0.7210 - loss: 0.9257 - val_accuracy: 0.8407 - val_loss: 0.6882\n",
      "Epoch 5/12\n",
      "\u001b[1m591/591\u001b[0m \u001b[32m━━━━━━━━━━━━━━━━━━━━\u001b[0m\u001b[37m\u001b[0m \u001b[1m24s\u001b[0m 41ms/step - accuracy: 0.7291 - loss: 0.9051 - val_accuracy: 0.8445 - val_loss: 0.6685\n",
      "Epoch 6/12\n",
      "\u001b[1m591/591\u001b[0m \u001b[32m━━━━━━━━━━━━━━━━━━━━\u001b[0m\u001b[37m\u001b[0m \u001b[1m26s\u001b[0m 45ms/step - accuracy: 0.7379 - loss: 0.8741 - val_accuracy: 0.8464 - val_loss: 0.6504\n",
      "Epoch 7/12\n",
      "\u001b[1m591/591\u001b[0m \u001b[32m━━━━━━━━━━━━━━━━━━━━\u001b[0m\u001b[37m\u001b[0m \u001b[1m28s\u001b[0m 47ms/step - accuracy: 0.7435 - loss: 0.8568 - val_accuracy: 0.8490 - val_loss: 0.6334\n",
      "Epoch 8/12\n",
      "\u001b[1m591/591\u001b[0m \u001b[32m━━━━━━━━━━━━━━━━━━━━\u001b[0m\u001b[37m\u001b[0m \u001b[1m26s\u001b[0m 43ms/step - accuracy: 0.7470 - loss: 0.8460 - val_accuracy: 0.8533 - val_loss: 0.6172\n",
      "Epoch 9/12\n",
      "\u001b[1m591/591\u001b[0m \u001b[32m━━━━━━━━━━━━━━━━━━━━\u001b[0m\u001b[37m\u001b[0m \u001b[1m25s\u001b[0m 43ms/step - accuracy: 0.7520 - loss: 0.8267 - val_accuracy: 0.8557 - val_loss: 0.6025\n",
      "Epoch 10/12\n",
      "\u001b[1m591/591\u001b[0m \u001b[32m━━━━━━━━━━━━━━━━━━━━\u001b[0m\u001b[37m\u001b[0m \u001b[1m42s\u001b[0m 44ms/step - accuracy: 0.7575 - loss: 0.8125 - val_accuracy: 0.8571 - val_loss: 0.5888\n",
      "Epoch 11/12\n",
      "\u001b[1m591/591\u001b[0m \u001b[32m━━━━━━━━━━━━━━━━━━━━\u001b[0m\u001b[37m\u001b[0m \u001b[1m26s\u001b[0m 44ms/step - accuracy: 0.7583 - loss: 0.7994 - val_accuracy: 0.8612 - val_loss: 0.5759\n",
      "Epoch 12/12\n",
      "\u001b[1m591/591\u001b[0m \u001b[32m━━━━━━━━━━━━━━━━━━━━\u001b[0m\u001b[37m\u001b[0m \u001b[1m25s\u001b[0m 43ms/step - accuracy: 0.7595 - loss: 0.7886 - val_accuracy: 0.8631 - val_loss: 0.5639\n",
      "Time Elapsed: 323.339335 seconds\n",
      "Test loss: 0.5638794898986816\n",
      "Test accuracy: 0.863095223903656\n",
      "Time Elapsed: 0.5792 seconds\n",
      "Train loss: 0.560472309589386\n",
      "Train accuracy: 0.864470899105072\n",
      "Time Elapsed: 8.726163 seconds\n",
      "\n",
      "Training on Split #3\n",
      "\n",
      "75600 train samples\n",
      "4200 test samples\n",
      "Epoch 1/12\n",
      "\u001b[1m591/591\u001b[0m \u001b[32m━━━━━━━━━━━━━━━━━━━━\u001b[0m\u001b[37m\u001b[0m \u001b[1m28s\u001b[0m 47ms/step - accuracy: 0.7678 - loss: 0.7671 - val_accuracy: 0.8607 - val_loss: 0.5571\n",
      "Epoch 2/12\n",
      "\u001b[1m591/591\u001b[0m \u001b[32m━━━━━━━━━━━━━━━━━━━━\u001b[0m\u001b[37m\u001b[0m \u001b[1m28s\u001b[0m 48ms/step - accuracy: 0.7679 - loss: 0.7651 - val_accuracy: 0.8629 - val_loss: 0.5468\n",
      "Epoch 3/12\n",
      "\u001b[1m591/591\u001b[0m \u001b[32m━━━━━━━━━━━━━━━━━━━━\u001b[0m\u001b[37m\u001b[0m \u001b[1m28s\u001b[0m 48ms/step - accuracy: 0.7742 - loss: 0.7451 - val_accuracy: 0.8650 - val_loss: 0.5366\n",
      "Epoch 4/12\n",
      "\u001b[1m591/591\u001b[0m \u001b[32m━━━━━━━━━━━━━━━━━━━━\u001b[0m\u001b[37m\u001b[0m \u001b[1m27s\u001b[0m 45ms/step - accuracy: 0.7782 - loss: 0.7288 - val_accuracy: 0.8683 - val_loss: 0.5270\n",
      "Epoch 5/12\n",
      "\u001b[1m591/591\u001b[0m \u001b[32m━━━━━━━━━━━━━━━━━━━━\u001b[0m\u001b[37m\u001b[0m \u001b[1m28s\u001b[0m 46ms/step - accuracy: 0.7792 - loss: 0.7289 - val_accuracy: 0.8690 - val_loss: 0.5181\n",
      "Epoch 6/12\n",
      "\u001b[1m591/591\u001b[0m \u001b[32m━━━━━━━━━━━━━━━━━━━━\u001b[0m\u001b[37m\u001b[0m \u001b[1m28s\u001b[0m 48ms/step - accuracy: 0.7838 - loss: 0.7138 - val_accuracy: 0.8693 - val_loss: 0.5093\n",
      "Epoch 7/12\n",
      "\u001b[1m591/591\u001b[0m \u001b[32m━━━━━━━━━━━━━━━━━━━━\u001b[0m\u001b[37m\u001b[0m \u001b[1m27s\u001b[0m 46ms/step - accuracy: 0.7863 - loss: 0.7089 - val_accuracy: 0.8710 - val_loss: 0.5014\n",
      "Epoch 8/12\n",
      "\u001b[1m591/591\u001b[0m \u001b[32m━━━━━━━━━━━━━━━━━━━━\u001b[0m\u001b[37m\u001b[0m \u001b[1m29s\u001b[0m 49ms/step - accuracy: 0.7913 - loss: 0.6933 - val_accuracy: 0.8719 - val_loss: 0.4939\n",
      "Epoch 9/12\n"
     ]
    },
    {
     "name": "stdout",
     "output_type": "stream",
     "text": [
      "\u001b[1m591/591\u001b[0m \u001b[32m━━━━━━━━━━━━━━━━━━━━\u001b[0m\u001b[37m\u001b[0m \u001b[1m27s\u001b[0m 46ms/step - accuracy: 0.7931 - loss: 0.6821 - val_accuracy: 0.8736 - val_loss: 0.4865\n",
      "Epoch 10/12\n",
      "\u001b[1m591/591\u001b[0m \u001b[32m━━━━━━━━━━━━━━━━━━━━\u001b[0m\u001b[37m\u001b[0m \u001b[1m26s\u001b[0m 44ms/step - accuracy: 0.7932 - loss: 0.6830 - val_accuracy: 0.8738 - val_loss: 0.4798\n",
      "Epoch 11/12\n",
      "\u001b[1m591/591\u001b[0m \u001b[32m━━━━━━━━━━━━━━━━━━━━\u001b[0m\u001b[37m\u001b[0m \u001b[1m26s\u001b[0m 44ms/step - accuracy: 0.7974 - loss: 0.6659 - val_accuracy: 0.8748 - val_loss: 0.4730\n",
      "Epoch 12/12\n",
      "\u001b[1m591/591\u001b[0m \u001b[32m━━━━━━━━━━━━━━━━━━━━\u001b[0m\u001b[37m\u001b[0m \u001b[1m28s\u001b[0m 47ms/step - accuracy: 0.7971 - loss: 0.6681 - val_accuracy: 0.8776 - val_loss: 0.4667\n",
      "Time Elapsed: 331.027763 seconds\n",
      "Test loss: 0.4666856825351715\n",
      "Test accuracy: 0.8776190280914307\n",
      "Time Elapsed: 0.616059 seconds\n",
      "Train loss: 0.4591129720211029\n",
      "Train accuracy: 0.8834259510040283\n",
      "Time Elapsed: 8.342085 seconds\n",
      "\n",
      "Training on Split #4\n",
      "\n",
      "75600 train samples\n",
      "4200 test samples\n",
      "Epoch 1/12\n",
      "\u001b[1m591/591\u001b[0m \u001b[32m━━━━━━━━━━━━━━━━━━━━\u001b[0m\u001b[37m\u001b[0m \u001b[1m24s\u001b[0m 40ms/step - accuracy: 0.8027 - loss: 0.6521 - val_accuracy: 0.8869 - val_loss: 0.4473\n",
      "Epoch 2/12\n",
      "\u001b[1m591/591\u001b[0m \u001b[32m━━━━━━━━━━━━━━━━━━━━\u001b[0m\u001b[37m\u001b[0m \u001b[1m23s\u001b[0m 40ms/step - accuracy: 0.8012 - loss: 0.6518 - val_accuracy: 0.8883 - val_loss: 0.4418\n",
      "Epoch 3/12\n",
      "\u001b[1m591/591\u001b[0m \u001b[32m━━━━━━━━━━━━━━━━━━━━\u001b[0m\u001b[37m\u001b[0m \u001b[1m23s\u001b[0m 40ms/step - accuracy: 0.8063 - loss: 0.6454 - val_accuracy: 0.8895 - val_loss: 0.4361\n",
      "Epoch 4/12\n",
      "\u001b[1m591/591\u001b[0m \u001b[32m━━━━━━━━━━━━━━━━━━━━\u001b[0m\u001b[37m\u001b[0m \u001b[1m23s\u001b[0m 40ms/step - accuracy: 0.8069 - loss: 0.6322 - val_accuracy: 0.8907 - val_loss: 0.4308\n",
      "Epoch 5/12\n",
      "\u001b[1m591/591\u001b[0m \u001b[32m━━━━━━━━━━━━━━━━━━━━\u001b[0m\u001b[37m\u001b[0m \u001b[1m24s\u001b[0m 40ms/step - accuracy: 0.8072 - loss: 0.6334 - val_accuracy: 0.8914 - val_loss: 0.4258\n",
      "Epoch 6/12\n",
      "\u001b[1m591/591\u001b[0m \u001b[32m━━━━━━━━━━━━━━━━━━━━\u001b[0m\u001b[37m\u001b[0m \u001b[1m24s\u001b[0m 40ms/step - accuracy: 0.8127 - loss: 0.6207 - val_accuracy: 0.8926 - val_loss: 0.4209\n",
      "Epoch 7/12\n",
      "\u001b[1m591/591\u001b[0m \u001b[32m━━━━━━━━━━━━━━━━━━━━\u001b[0m\u001b[37m\u001b[0m \u001b[1m24s\u001b[0m 40ms/step - accuracy: 0.8106 - loss: 0.6210 - val_accuracy: 0.8933 - val_loss: 0.4164\n",
      "Epoch 8/12\n",
      "\u001b[1m591/591\u001b[0m \u001b[32m━━━━━━━━━━━━━━━━━━━━\u001b[0m\u001b[37m\u001b[0m \u001b[1m42s\u001b[0m 41ms/step - accuracy: 0.8151 - loss: 0.6100 - val_accuracy: 0.8948 - val_loss: 0.4118\n",
      "Epoch 9/12\n",
      "\u001b[1m591/591\u001b[0m \u001b[32m━━━━━━━━━━━━━━━━━━━━\u001b[0m\u001b[37m\u001b[0m \u001b[1m25s\u001b[0m 43ms/step - accuracy: 0.8148 - loss: 0.6122 - val_accuracy: 0.8952 - val_loss: 0.4076\n",
      "Epoch 10/12\n",
      "\u001b[1m591/591\u001b[0m \u001b[32m━━━━━━━━━━━━━━━━━━━━\u001b[0m\u001b[37m\u001b[0m \u001b[1m25s\u001b[0m 42ms/step - accuracy: 0.8159 - loss: 0.6055 - val_accuracy: 0.8952 - val_loss: 0.4038\n",
      "Epoch 11/12\n",
      "\u001b[1m591/591\u001b[0m \u001b[32m━━━━━━━━━━━━━━━━━━━━\u001b[0m\u001b[37m\u001b[0m \u001b[1m25s\u001b[0m 42ms/step - accuracy: 0.8194 - loss: 0.5933 - val_accuracy: 0.8964 - val_loss: 0.3998\n",
      "Epoch 12/12\n",
      "\u001b[1m591/591\u001b[0m \u001b[32m━━━━━━━━━━━━━━━━━━━━\u001b[0m\u001b[37m\u001b[0m \u001b[1m28s\u001b[0m 47ms/step - accuracy: 0.8219 - loss: 0.5899 - val_accuracy: 0.8974 - val_loss: 0.3958\n",
      "Time Elapsed: 323.278154 seconds\n",
      "Test loss: 0.3957831561565399\n",
      "Test accuracy: 0.8973809480667114\n",
      "Time Elapsed: 0.632848 seconds\n",
      "Train loss: 0.40239423513412476\n",
      "Train accuracy: 0.8944047689437866\n",
      "Time Elapsed: 9.195521 seconds\n",
      "\n",
      "Training on Split #5\n",
      "\n",
      "75600 train samples\n",
      "4200 test samples\n",
      "Epoch 1/12\n",
      "\u001b[1m591/591\u001b[0m \u001b[32m━━━━━━━━━━━━━━━━━━━━\u001b[0m\u001b[37m\u001b[0m \u001b[1m28s\u001b[0m 47ms/step - accuracy: 0.8238 - loss: 0.5828 - val_accuracy: 0.8976 - val_loss: 0.4083\n",
      "Epoch 2/12\n",
      "\u001b[1m591/591\u001b[0m \u001b[32m━━━━━━━━━━━━━━━━━━━━\u001b[0m\u001b[37m\u001b[0m \u001b[1m40s\u001b[0m 46ms/step - accuracy: 0.8261 - loss: 0.5745 - val_accuracy: 0.8990 - val_loss: 0.4045\n",
      "Epoch 3/12\n",
      "\u001b[1m591/591\u001b[0m \u001b[32m━━━━━━━━━━━━━━━━━━━━\u001b[0m\u001b[37m\u001b[0m \u001b[1m26s\u001b[0m 44ms/step - accuracy: 0.8267 - loss: 0.5775 - val_accuracy: 0.9000 - val_loss: 0.4013\n",
      "Epoch 4/12\n",
      "\u001b[1m591/591\u001b[0m \u001b[32m━━━━━━━━━━━━━━━━━━━━\u001b[0m\u001b[37m\u001b[0m \u001b[1m24s\u001b[0m 41ms/step - accuracy: 0.8249 - loss: 0.5724 - val_accuracy: 0.9007 - val_loss: 0.3981\n",
      "Epoch 5/12\n",
      "\u001b[1m591/591\u001b[0m \u001b[32m━━━━━━━━━━━━━━━━━━━━\u001b[0m\u001b[37m\u001b[0m \u001b[1m25s\u001b[0m 43ms/step - accuracy: 0.8247 - loss: 0.5739 - val_accuracy: 0.9010 - val_loss: 0.3950\n",
      "Epoch 6/12\n",
      "\u001b[1m591/591\u001b[0m \u001b[32m━━━━━━━━━━━━━━━━━━━━\u001b[0m\u001b[37m\u001b[0m \u001b[1m26s\u001b[0m 43ms/step - accuracy: 0.8291 - loss: 0.5623 - val_accuracy: 0.9019 - val_loss: 0.3917\n",
      "Epoch 7/12\n",
      "\u001b[1m591/591\u001b[0m \u001b[32m━━━━━━━━━━━━━━━━━━━━\u001b[0m\u001b[37m\u001b[0m \u001b[1m25s\u001b[0m 42ms/step - accuracy: 0.8332 - loss: 0.5546 - val_accuracy: 0.9021 - val_loss: 0.3889\n",
      "Epoch 8/12\n",
      "\u001b[1m591/591\u001b[0m \u001b[32m━━━━━━━━━━━━━━━━━━━━\u001b[0m\u001b[37m\u001b[0m \u001b[1m26s\u001b[0m 44ms/step - accuracy: 0.8323 - loss: 0.5502 - val_accuracy: 0.9029 - val_loss: 0.3861\n",
      "Epoch 9/12\n",
      "\u001b[1m591/591\u001b[0m \u001b[32m━━━━━━━━━━━━━━━━━━━━\u001b[0m\u001b[37m\u001b[0m \u001b[1m26s\u001b[0m 44ms/step - accuracy: 0.8320 - loss: 0.5508 - val_accuracy: 0.9038 - val_loss: 0.3834\n",
      "Epoch 10/12\n",
      "\u001b[1m591/591\u001b[0m \u001b[32m━━━━━━━━━━━━━━━━━━━━\u001b[0m\u001b[37m\u001b[0m \u001b[1m41s\u001b[0m 44ms/step - accuracy: 0.8362 - loss: 0.5434 - val_accuracy: 0.9040 - val_loss: 0.3805\n",
      "Epoch 11/12\n",
      "\u001b[1m591/591\u001b[0m \u001b[32m━━━━━━━━━━━━━━━━━━━━\u001b[0m\u001b[37m\u001b[0m \u001b[1m26s\u001b[0m 44ms/step - accuracy: 0.8350 - loss: 0.5421 - val_accuracy: 0.9045 - val_loss: 0.3778\n",
      "Epoch 12/12\n",
      "\u001b[1m591/591\u001b[0m \u001b[32m━━━━━━━━━━━━━━━━━━━━\u001b[0m\u001b[37m\u001b[0m \u001b[1m27s\u001b[0m 45ms/step - accuracy: 0.8345 - loss: 0.5393 - val_accuracy: 0.9060 - val_loss: 0.3751\n",
      "Time Elapsed: 340.160072 seconds\n",
      "Test loss: 0.3750685155391693\n",
      "Test accuracy: 0.9059523940086365\n",
      "Time Elapsed: 0.796314 seconds\n",
      "Train loss: 0.36122122406959534\n",
      "Train accuracy: 0.902050256729126\n",
      "Time Elapsed: 8.753862 seconds\n",
      "\n",
      "Training on Split #6\n",
      "\n",
      "75600 train samples\n",
      "4200 test samples\n",
      "Epoch 1/12\n",
      "\u001b[1m591/591\u001b[0m \u001b[32m━━━━━━━━━━━━━━━━━━━━\u001b[0m\u001b[37m\u001b[0m \u001b[1m25s\u001b[0m 43ms/step - accuracy: 0.8412 - loss: 0.5282 - val_accuracy: 0.9031 - val_loss: 0.3664\n",
      "Epoch 2/12\n",
      "\u001b[1m591/591\u001b[0m \u001b[32m━━━━━━━━━━━━━━━━━━━━\u001b[0m\u001b[37m\u001b[0m \u001b[1m26s\u001b[0m 44ms/step - accuracy: 0.8369 - loss: 0.5301 - val_accuracy: 0.9038 - val_loss: 0.3638\n",
      "Epoch 3/12\n",
      "\u001b[1m591/591\u001b[0m \u001b[32m━━━━━━━━━━━━━━━━━━━━\u001b[0m\u001b[37m\u001b[0m \u001b[1m27s\u001b[0m 45ms/step - accuracy: 0.8448 - loss: 0.5168 - val_accuracy: 0.9043 - val_loss: 0.3614\n",
      "Epoch 4/12\n",
      "\u001b[1m591/591\u001b[0m \u001b[32m━━━━━━━━━━━━━━━━━━━━\u001b[0m\u001b[37m\u001b[0m \u001b[1m27s\u001b[0m 45ms/step - accuracy: 0.8415 - loss: 0.5194 - val_accuracy: 0.9043 - val_loss: 0.3591\n",
      "Epoch 5/12\n",
      "\u001b[1m591/591\u001b[0m \u001b[32m━━━━━━━━━━━━━━━━━━━━\u001b[0m\u001b[37m\u001b[0m \u001b[1m26s\u001b[0m 44ms/step - accuracy: 0.8435 - loss: 0.5206 - val_accuracy: 0.9050 - val_loss: 0.3567\n",
      "Epoch 6/12\n",
      "\u001b[1m591/591\u001b[0m \u001b[32m━━━━━━━━━━━━━━━━━━━━\u001b[0m\u001b[37m\u001b[0m \u001b[1m27s\u001b[0m 46ms/step - accuracy: 0.8415 - loss: 0.5244 - val_accuracy: 0.9045 - val_loss: 0.3546\n",
      "Epoch 7/12\n",
      "\u001b[1m591/591\u001b[0m \u001b[32m━━━━━━━━━━━━━━━━━━━━\u001b[0m\u001b[37m\u001b[0m \u001b[1m28s\u001b[0m 48ms/step - accuracy: 0.8487 - loss: 0.5097 - val_accuracy: 0.9045 - val_loss: 0.3525\n",
      "Epoch 8/12\n",
      "\u001b[1m591/591\u001b[0m \u001b[32m━━━━━━━━━━━━━━━━━━━━\u001b[0m\u001b[37m\u001b[0m \u001b[1m27s\u001b[0m 46ms/step - accuracy: 0.8462 - loss: 0.5118 - val_accuracy: 0.9055 - val_loss: 0.3503\n",
      "Epoch 9/12\n",
      "\u001b[1m591/591\u001b[0m \u001b[32m━━━━━━━━━━━━━━━━━━━━\u001b[0m\u001b[37m\u001b[0m \u001b[1m29s\u001b[0m 48ms/step - accuracy: 0.8463 - loss: 0.5091 - val_accuracy: 0.9064 - val_loss: 0.3479\n",
      "Epoch 10/12\n",
      "\u001b[1m591/591\u001b[0m \u001b[32m━━━━━━━━━━━━━━━━━━━━\u001b[0m\u001b[37m\u001b[0m \u001b[1m28s\u001b[0m 48ms/step - accuracy: 0.8482 - loss: 0.5054 - val_accuracy: 0.9067 - val_loss: 0.3460\n",
      "Epoch 11/12\n",
      "\u001b[1m591/591\u001b[0m \u001b[32m━━━━━━━━━━━━━━━━━━━━\u001b[0m\u001b[37m\u001b[0m \u001b[1m27s\u001b[0m 45ms/step - accuracy: 0.8493 - loss: 0.5072 - val_accuracy: 0.9069 - val_loss: 0.3439\n",
      "Epoch 12/12\n",
      "\u001b[1m591/591\u001b[0m \u001b[32m━━━━━━━━━━━━━━━━━━━━\u001b[0m\u001b[37m\u001b[0m \u001b[1m28s\u001b[0m 47ms/step - accuracy: 0.8490 - loss: 0.5023 - val_accuracy: 0.9071 - val_loss: 0.3417\n",
      "Time Elapsed: 324.999754 seconds\n",
      "Test loss: 0.341718465089798\n",
      "Test accuracy: 0.9071428775787354\n",
      "Time Elapsed: 0.521991 seconds\n",
      "Train loss: 0.3336726725101471\n",
      "Train accuracy: 0.9081217050552368\n",
      "Time Elapsed: 8.365658 seconds\n",
      "\n",
      "Training on Split #7\n",
      "\n",
      "75600 train samples\n",
      "4200 test samples\n",
      "Epoch 1/12\n",
      "\u001b[1m591/591\u001b[0m \u001b[32m━━━━━━━━━━━━━━━━━━━━\u001b[0m\u001b[37m\u001b[0m \u001b[1m26s\u001b[0m 44ms/step - accuracy: 0.8531 - loss: 0.4940 - val_accuracy: 0.9045 - val_loss: 0.3397\n",
      "Epoch 2/12\n",
      "\u001b[1m591/591\u001b[0m \u001b[32m━━━━━━━━━━━━━━━━━━━━\u001b[0m\u001b[37m\u001b[0m \u001b[1m26s\u001b[0m 44ms/step - accuracy: 0.8517 - loss: 0.4885 - val_accuracy: 0.9050 - val_loss: 0.3379\n",
      "Epoch 3/12\n",
      "\u001b[1m591/591\u001b[0m \u001b[32m━━━━━━━━━━━━━━━━━━━━\u001b[0m\u001b[37m\u001b[0m \u001b[1m27s\u001b[0m 46ms/step - accuracy: 0.8516 - loss: 0.4910 - val_accuracy: 0.9048 - val_loss: 0.3360\n"
     ]
    },
    {
     "name": "stdout",
     "output_type": "stream",
     "text": [
      "Epoch 4/12\n",
      "\u001b[1m591/591\u001b[0m \u001b[32m━━━━━━━━━━━━━━━━━━━━\u001b[0m\u001b[37m\u001b[0m \u001b[1m25s\u001b[0m 43ms/step - accuracy: 0.8525 - loss: 0.4850 - val_accuracy: 0.9048 - val_loss: 0.3340\n",
      "Epoch 5/12\n",
      "\u001b[1m591/591\u001b[0m \u001b[32m━━━━━━━━━━━━━━━━━━━━\u001b[0m\u001b[37m\u001b[0m \u001b[1m25s\u001b[0m 41ms/step - accuracy: 0.8542 - loss: 0.4851 - val_accuracy: 0.9062 - val_loss: 0.3322\n",
      "Epoch 6/12\n",
      "\u001b[1m591/591\u001b[0m \u001b[32m━━━━━━━━━━━━━━━━━━━━\u001b[0m\u001b[37m\u001b[0m \u001b[1m25s\u001b[0m 42ms/step - accuracy: 0.8491 - loss: 0.4938 - val_accuracy: 0.9064 - val_loss: 0.3306\n",
      "Epoch 7/12\n",
      "\u001b[1m591/591\u001b[0m \u001b[32m━━━━━━━━━━━━━━━━━━━━\u001b[0m\u001b[37m\u001b[0m \u001b[1m25s\u001b[0m 41ms/step - accuracy: 0.8542 - loss: 0.4820 - val_accuracy: 0.9067 - val_loss: 0.3289\n",
      "Epoch 8/12\n",
      "\u001b[1m591/591\u001b[0m \u001b[32m━━━━━━━━━━━━━━━━━━━━\u001b[0m\u001b[37m\u001b[0m \u001b[1m24s\u001b[0m 40ms/step - accuracy: 0.8579 - loss: 0.4713 - val_accuracy: 0.9071 - val_loss: 0.3268\n",
      "Epoch 9/12\n",
      "\u001b[1m591/591\u001b[0m \u001b[32m━━━━━━━━━━━━━━━━━━━━\u001b[0m\u001b[37m\u001b[0m \u001b[1m25s\u001b[0m 42ms/step - accuracy: 0.8573 - loss: 0.4766 - val_accuracy: 0.9074 - val_loss: 0.3251\n",
      "Epoch 10/12\n",
      "\u001b[1m591/591\u001b[0m \u001b[32m━━━━━━━━━━━━━━━━━━━━\u001b[0m\u001b[37m\u001b[0m \u001b[1m24s\u001b[0m 41ms/step - accuracy: 0.8580 - loss: 0.4719 - val_accuracy: 0.9083 - val_loss: 0.3233\n",
      "Epoch 11/12\n",
      "\u001b[1m591/591\u001b[0m \u001b[32m━━━━━━━━━━━━━━━━━━━━\u001b[0m\u001b[37m\u001b[0m \u001b[1m25s\u001b[0m 41ms/step - accuracy: 0.8554 - loss: 0.4742 - val_accuracy: 0.9086 - val_loss: 0.3217\n",
      "Epoch 12/12\n",
      "\u001b[1m591/591\u001b[0m \u001b[32m━━━━━━━━━━━━━━━━━━━━\u001b[0m\u001b[37m\u001b[0m \u001b[1m24s\u001b[0m 41ms/step - accuracy: 0.8609 - loss: 0.4628 - val_accuracy: 0.9088 - val_loss: 0.3202\n",
      "Time Elapsed: 300.66339 seconds\n",
      "Test loss: 0.3202327787876129\n",
      "Test accuracy: 0.9088095426559448\n",
      "Time Elapsed: 0.523372 seconds\n",
      "Train loss: 0.3122526705265045\n",
      "Train accuracy: 0.9136508107185364\n",
      "Time Elapsed: 8.370606 seconds\n",
      "\n",
      "Training on Split #8\n",
      "\n",
      "75600 train samples\n",
      "4200 test samples\n",
      "Epoch 1/12\n",
      "\u001b[1m591/591\u001b[0m \u001b[32m━━━━━━━━━━━━━━━━━━━━\u001b[0m\u001b[37m\u001b[0m \u001b[1m25s\u001b[0m 43ms/step - accuracy: 0.8592 - loss: 0.4693 - val_accuracy: 0.9183 - val_loss: 0.2979\n",
      "Epoch 2/12\n",
      "\u001b[1m591/591\u001b[0m \u001b[32m━━━━━━━━━━━━━━━━━━━━\u001b[0m\u001b[37m\u001b[0m \u001b[1m26s\u001b[0m 44ms/step - accuracy: 0.8586 - loss: 0.4673 - val_accuracy: 0.9188 - val_loss: 0.2966\n",
      "Epoch 3/12\n",
      "\u001b[1m591/591\u001b[0m \u001b[32m━━━━━━━━━━━━━━━━━━━━\u001b[0m\u001b[37m\u001b[0m \u001b[1m26s\u001b[0m 43ms/step - accuracy: 0.8594 - loss: 0.4645 - val_accuracy: 0.9193 - val_loss: 0.2950\n",
      "Epoch 4/12\n",
      "\u001b[1m591/591\u001b[0m \u001b[32m━━━━━━━━━━━━━━━━━━━━\u001b[0m\u001b[37m\u001b[0m \u001b[1m26s\u001b[0m 43ms/step - accuracy: 0.8613 - loss: 0.4617 - val_accuracy: 0.9195 - val_loss: 0.2936\n",
      "Epoch 5/12\n",
      "\u001b[1m591/591\u001b[0m \u001b[32m━━━━━━━━━━━━━━━━━━━━\u001b[0m\u001b[37m\u001b[0m \u001b[1m27s\u001b[0m 45ms/step - accuracy: 0.8618 - loss: 0.4649 - val_accuracy: 0.9212 - val_loss: 0.2923\n",
      "Epoch 6/12\n",
      "\u001b[1m591/591\u001b[0m \u001b[32m━━━━━━━━━━━━━━━━━━━━\u001b[0m\u001b[37m\u001b[0m \u001b[1m26s\u001b[0m 43ms/step - accuracy: 0.8630 - loss: 0.4539 - val_accuracy: 0.9214 - val_loss: 0.2908\n",
      "Epoch 7/12\n",
      "\u001b[1m591/591\u001b[0m \u001b[32m━━━━━━━━━━━━━━━━━━━━\u001b[0m\u001b[37m\u001b[0m \u001b[1m27s\u001b[0m 46ms/step - accuracy: 0.8611 - loss: 0.4604 - val_accuracy: 0.9219 - val_loss: 0.2891\n",
      "Epoch 8/12\n",
      "\u001b[1m591/591\u001b[0m \u001b[32m━━━━━━━━━━━━━━━━━━━━\u001b[0m\u001b[37m\u001b[0m \u001b[1m26s\u001b[0m 44ms/step - accuracy: 0.8639 - loss: 0.4524 - val_accuracy: 0.9224 - val_loss: 0.2877\n",
      "Epoch 9/12\n",
      "\u001b[1m591/591\u001b[0m \u001b[32m━━━━━━━━━━━━━━━━━━━━\u001b[0m\u001b[37m\u001b[0m \u001b[1m27s\u001b[0m 46ms/step - accuracy: 0.8642 - loss: 0.4472 - val_accuracy: 0.9229 - val_loss: 0.2863\n",
      "Epoch 10/12\n",
      "\u001b[1m591/591\u001b[0m \u001b[32m━━━━━━━━━━━━━━━━━━━━\u001b[0m\u001b[37m\u001b[0m \u001b[1m26s\u001b[0m 44ms/step - accuracy: 0.8645 - loss: 0.4438 - val_accuracy: 0.9231 - val_loss: 0.2848\n",
      "Epoch 11/12\n",
      "\u001b[1m591/591\u001b[0m \u001b[32m━━━━━━━━━━━━━━━━━━━━\u001b[0m\u001b[37m\u001b[0m \u001b[1m25s\u001b[0m 43ms/step - accuracy: 0.8702 - loss: 0.4411 - val_accuracy: 0.9231 - val_loss: 0.2836\n",
      "Epoch 12/12\n",
      "\u001b[1m591/591\u001b[0m \u001b[32m━━━━━━━━━━━━━━━━━━━━\u001b[0m\u001b[37m\u001b[0m \u001b[1m25s\u001b[0m 43ms/step - accuracy: 0.8668 - loss: 0.4440 - val_accuracy: 0.9238 - val_loss: 0.2821\n",
      "Time Elapsed: 312.273694 seconds\n",
      "Test loss: 0.2820926308631897\n",
      "Test accuracy: 0.9238095283508301\n",
      "Time Elapsed: 0.554901 seconds\n",
      "Train loss: 0.2963607609272003\n",
      "Train accuracy: 0.9165211915969849\n",
      "Time Elapsed: 8.359297 seconds\n",
      "\n",
      "Training on Split #9\n",
      "\n",
      "75600 train samples\n",
      "4200 test samples\n",
      "Epoch 1/12\n",
      "\u001b[1m591/591\u001b[0m \u001b[32m━━━━━━━━━━━━━━━━━━━━\u001b[0m\u001b[37m\u001b[0m \u001b[1m26s\u001b[0m 43ms/step - accuracy: 0.8661 - loss: 0.4498 - val_accuracy: 0.9186 - val_loss: 0.2895\n",
      "Epoch 2/12\n",
      "\u001b[1m591/591\u001b[0m \u001b[32m━━━━━━━━━━━━━━━━━━━━\u001b[0m\u001b[37m\u001b[0m \u001b[1m25s\u001b[0m 42ms/step - accuracy: 0.8695 - loss: 0.4335 - val_accuracy: 0.9198 - val_loss: 0.2883\n",
      "Epoch 3/12\n",
      "\u001b[1m591/591\u001b[0m \u001b[32m━━━━━━━━━━━━━━━━━━━━\u001b[0m\u001b[37m\u001b[0m \u001b[1m25s\u001b[0m 43ms/step - accuracy: 0.8672 - loss: 0.4390 - val_accuracy: 0.9193 - val_loss: 0.2871\n",
      "Epoch 4/12\n",
      "\u001b[1m591/591\u001b[0m \u001b[32m━━━━━━━━━━━━━━━━━━━━\u001b[0m\u001b[37m\u001b[0m \u001b[1m27s\u001b[0m 45ms/step - accuracy: 0.8689 - loss: 0.4313 - val_accuracy: 0.9198 - val_loss: 0.2857\n",
      "Epoch 5/12\n",
      "\u001b[1m591/591\u001b[0m \u001b[32m━━━━━━━━━━━━━━━━━━━━\u001b[0m\u001b[37m\u001b[0m \u001b[1m25s\u001b[0m 42ms/step - accuracy: 0.8679 - loss: 0.4356 - val_accuracy: 0.9205 - val_loss: 0.2846\n",
      "Epoch 6/12\n",
      "\u001b[1m591/591\u001b[0m \u001b[32m━━━━━━━━━━━━━━━━━━━━\u001b[0m\u001b[37m\u001b[0m \u001b[1m25s\u001b[0m 43ms/step - accuracy: 0.8698 - loss: 0.4300 - val_accuracy: 0.9212 - val_loss: 0.2832\n",
      "Epoch 7/12\n",
      "\u001b[1m591/591\u001b[0m \u001b[32m━━━━━━━━━━━━━━━━━━━━\u001b[0m\u001b[37m\u001b[0m \u001b[1m26s\u001b[0m 43ms/step - accuracy: 0.8669 - loss: 0.4360 - val_accuracy: 0.9212 - val_loss: 0.2821\n",
      "Epoch 8/12\n",
      "\u001b[1m591/591\u001b[0m \u001b[32m━━━━━━━━━━━━━━━━━━━━\u001b[0m\u001b[37m\u001b[0m \u001b[1m29s\u001b[0m 48ms/step - accuracy: 0.8702 - loss: 0.4277 - val_accuracy: 0.9214 - val_loss: 0.2808\n",
      "Epoch 9/12\n",
      "\u001b[1m591/591\u001b[0m \u001b[32m━━━━━━━━━━━━━━━━━━━━\u001b[0m\u001b[37m\u001b[0m \u001b[1m30s\u001b[0m 51ms/step - accuracy: 0.8693 - loss: 0.4271 - val_accuracy: 0.9217 - val_loss: 0.2798\n",
      "Epoch 10/12\n",
      "\u001b[1m591/591\u001b[0m \u001b[32m━━━━━━━━━━━━━━━━━━━━\u001b[0m\u001b[37m\u001b[0m \u001b[1m26s\u001b[0m 44ms/step - accuracy: 0.8732 - loss: 0.4215 - val_accuracy: 0.9221 - val_loss: 0.2785\n",
      "Epoch 11/12\n",
      "\u001b[1m591/591\u001b[0m \u001b[32m━━━━━━━━━━━━━━━━━━━━\u001b[0m\u001b[37m\u001b[0m \u001b[1m27s\u001b[0m 45ms/step - accuracy: 0.8707 - loss: 0.4278 - val_accuracy: 0.9224 - val_loss: 0.2775\n",
      "Epoch 12/12\n",
      "\u001b[1m591/591\u001b[0m \u001b[32m━━━━━━━━━━━━━━━━━━━━\u001b[0m\u001b[37m\u001b[0m \u001b[1m28s\u001b[0m 47ms/step - accuracy: 0.8736 - loss: 0.4205 - val_accuracy: 0.9226 - val_loss: 0.2763\n",
      "Time Elapsed: 331.681614 seconds\n",
      "Test loss: 0.276300311088562\n",
      "Test accuracy: 0.9226190447807312\n",
      "Time Elapsed: 0.631555 seconds\n",
      "Train loss: 0.27974042296409607\n",
      "Train accuracy: 0.9213888645172119\n",
      "Time Elapsed: 8.65945 seconds\n"
     ]
    }
   ],
   "source": [
    "validation_scores = []\n",
    "test_scores = []\n",
    "\n",
    "split_num = 0\n",
    "for train_index, test_index in kf.split(trnImgs):\n",
    "    print(f\"\\nTraining on Split #{split_num}\\n\")\n",
    "    split_num += 1\n",
    "    \n",
    "    x_train, x_test = copy.deepcopy(trnImgs[train_index]), copy.deepcopy(trnImgs[test_index])\n",
    "    y_train, y_test = copy.deepcopy(labels[train_index]), copy.deepcopy(labels[test_index])\n",
    "\n",
    "    # add noise to expand dataset\n",
    "    x_train = np.vstack((x_train, x_train + np.random.normal(size=x_train.shape)))\n",
    "    y_train = np.hstack((y_train, y_train))\n",
    "\n",
    "    if K.image_data_format() == 'channels_first':\n",
    "        x_train = x_train.reshape(x_train.shape[0], 1, img_rows, img_cols)\n",
    "        x_test = x_test.reshape(x_test.shape[0], 1, img_rows, img_cols)\n",
    "    else:\n",
    "        x_train = x_train.reshape(x_train.shape[0], img_rows, img_cols, 1)\n",
    "        x_test = x_test.reshape(x_test.shape[0], img_rows, img_cols, 1)\n",
    "\n",
    "\n",
    "    x_train = x_train.astype('float32')\n",
    "    x_test = x_test.astype('float32')\n",
    "    x_train /= 255\n",
    "    x_test /= 255\n",
    "    \n",
    "    print(x_train.shape[0], 'train samples')\n",
    "    print(x_test.shape[0], 'test samples')\n",
    "\n",
    "    # convert class vectors to binary class matrices\n",
    "    y_train_one_hot = keras.utils.to_categorical(y_train, num_classes)\n",
    "    y_test_one_hot = keras.utils.to_categorical(y_test, num_classes)\n",
    "    \n",
    "    \n",
    "    # Training\n",
    "    start_time = datetime.now()\n",
    "\n",
    "    history = model.fit(x_train, y_train_one_hot,\n",
    "              batch_size=batch_size,\n",
    "              epochs=epochs,\n",
    "              verbose=1,\n",
    "              validation_data=(x_test, y_test_one_hot))\n",
    "\n",
    "    print(\"Time Elapsed: {} seconds\".format((datetime.now() - start_time).total_seconds()))\n",
    "\n",
    "    # Testing Score\n",
    "    start_time = datetime.now()\n",
    "    score = model.evaluate(x_test, y_test_one_hot, verbose=0)\n",
    "    test_scores.append(score)\n",
    "    print('Test loss:', score[0])\n",
    "    print('Test accuracy:', score[1])\n",
    "    print(\"Time Elapsed: {} seconds\".format((datetime.now() - start_time).total_seconds()))\n",
    "    \n",
    "    # Training Score\n",
    "    start_time = datetime.now()\n",
    "    score_train = model.evaluate(x_train, y_train_one_hot, verbose=0)\n",
    "    validation_scores.append(score_train)\n",
    "    print('Train loss:', score_train[0])\n",
    "    print('Train accuracy:', score_train[1])\n",
    "\n",
    "    print(\"Time Elapsed: {} seconds\".format((datetime.now() - start_time).total_seconds()))"
   ]
  },
  {
   "cell_type": "code",
   "execution_count": 16,
   "id": "3340bb88",
   "metadata": {},
   "outputs": [
    {
     "name": "stdout",
     "output_type": "stream",
     "text": [
      "[0.7655291  0.83271164 0.8644709  0.88342595 0.89440477 0.90205026\n",
      " 0.90812171 0.91365081 0.91652119 0.92138886]\n",
      "[0.77071428 0.83499998 0.86309522 0.87761903 0.89738095 0.90595239\n",
      " 0.90714288 0.90880954 0.92380953 0.92261904]\n",
      "Average Validation Accuracy: 0.880227518081665\n",
      "Average Test Accuracy: 0.8812142848968506\n"
     ]
    }
   ],
   "source": [
    "validation_scores = np.array(validation_scores)\n",
    "test_scores = np.array(test_scores)\n",
    "\n",
    "val_loss, val_accuracy = validation_scores[:,0], validation_scores[:,1]\n",
    "test_loss, test_accuracy = test_scores[:,0], test_scores[:,1]\n",
    "\n",
    "print(val_accuracy)\n",
    "print(test_accuracy)\n",
    "\n",
    "print(f\"Average Validation Accuracy: {np.mean(val_accuracy)}\")\n",
    "print(f\"Average Test Accuracy: {np.mean(test_accuracy)}\")"
   ]
  },
  {
   "cell_type": "markdown",
   "id": "59c94f66",
   "metadata": {},
   "source": [
    "## Evaluate Model"
   ]
  },
  {
   "cell_type": "code",
   "execution_count": 17,
   "id": "f5bd9d9b",
   "metadata": {},
   "outputs": [
    {
     "name": "stdout",
     "output_type": "stream",
     "text": [
      "dict_keys(['accuracy', 'loss', 'val_accuracy', 'val_loss'])\n"
     ]
    },
    {
     "data": {
      "image/png": "[encoded data removed]",
      "text/plain": [
       "<Figure size 640x480 with 1 Axes>"
      ]
     },
     "metadata": {},
     "output_type": "display_data"
    },
    {
     "data": {
      "image/png": "[encoded data removed]",
      "text/plain": [
       "<Figure size 640x480 with 1 Axes>"
      ]
     },
     "metadata": {},
     "output_type": "display_data"
    }
   ],
   "source": [
    "# list all data in history\n",
    "print(history.history.keys())\n",
    "# summarize history for accuracy\n",
    "plt.plot(history.history['accuracy'])\n",
    "plt.plot(history.history['val_accuracy'])\n",
    "plt.title('model accuracy')\n",
    "plt.ylabel('accuracy')\n",
    "plt.xlabel('epoch')\n",
    "plt.legend(['train', 'test'], loc='upper left')\n",
    "plt.show()\n",
    "# summarize history for loss\n",
    "plt.plot(history.history['loss'])\n",
    "plt.plot(history.history['val_loss'])\n",
    "plt.title('model loss')\n",
    "plt.ylabel('loss')\n",
    "plt.xlabel('epoch')\n",
    "plt.legend(['train', 'test'], loc='upper left')\n",
    "plt.show()"
   ]
  },
  {
   "cell_type": "code",
   "execution_count": 18,
   "id": "349a9a6e",
   "metadata": {},
   "outputs": [
    {
     "name": "stdout",
     "output_type": "stream",
     "text": [
      "Model Accuracy: 0.9845238095238096\n"
     ]
    }
   ],
   "source": [
    "predictions = model.predict(x_test, verbose=0)\n",
    "yitest = np.argmax(y_test_one_hot, axis=1)\n",
    "\n",
    "normPred = []\n",
    "for row in predictions:\n",
    "    normPred.append(np.floor(row/np.max(row)))\n",
    "    \n",
    "normPred = np.array(normPred)\n",
    "\n",
    "print(f\"Model Accuracy: {np.count_nonzero(normPred == y_test_one_hot)/(normPred.flatten()).shape[0]}\")\n",
    "\n",
    "yptest = np.argmax(predictions, axis=1)\n",
    "# print (yitest)\n",
    "# print (yptest)\n",
    "\n",
    "cfm_k2 = confusion_matrix(yitest, yptest)"
   ]
  },
  {
   "cell_type": "markdown",
   "id": "9a0ec5e2",
   "metadata": {},
   "source": [
    "## Confusion Matrix"
   ]
  },
  {
   "cell_type": "code",
   "execution_count": 19,
   "id": "f7fd2940",
   "metadata": {},
   "outputs": [
    {
     "name": "stdout",
     "output_type": "stream",
     "text": [
      "Confusion matrix, without normalization\n"
     ]
    },
    {
     "data": {
      "image/png": "[encoded data removed]",
      "text/plain": [
       "<Figure size 640x480 with 2 Axes>"
      ]
     },
     "metadata": {},
     "output_type": "display_data"
    }
   ],
   "source": [
    "plot_confusion_matrix(cfm_k2, classes=range(10), \n",
    "                      title='Confusion matrix for Digit Recognizer')"
   ]
  },
  {
   "cell_type": "code",
   "execution_count": null,
   "id": "84bb65b4",
   "metadata": {},
   "outputs": [],
   "source": []
  }
 ],
 "metadata": {
  "kernelspec": {
   "display_name": "Python 3 (ipykernel)",
   "language": "python",
   "name": "python3"
  },
  "language_info": {
   "codemirror_mode": {
    "name": "ipython",
    "version": 3
   },
   "file_extension": ".py",
   "mimetype": "text/x-python",
   "name": "python",
   "nbconvert_exporter": "python",
   "pygments_lexer": "ipython3",
   "version": "3.11.5"
  }
 },
 "nbformat": 4,
 "nbformat_minor": 5
}
